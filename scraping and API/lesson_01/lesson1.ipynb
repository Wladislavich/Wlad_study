{
 "cells": [
  {
   "cell_type": "markdown",
   "metadata": {},
   "source": [
    "Задача:\n",
    "Источник данных https://5ka.ru/special_offers/\n",
    "Необходимо создать структуру JSON файлов где имя файла название категории, а содержимое файла JSON список\n",
    "словарей товаров, принадлежащих этой категории.\n",
    "Извлекаем только товары по акции, не перегружайте сервер делайте time.sleep\n",
    "В Гите хранить файлы результата не нужно, только код который приводит к созданию соответсвующих файлов"
   ]
  },
  {
   "cell_type": "code",
   "execution_count": 8,
   "metadata": {},
   "outputs": [],
   "source": [
    "import requests\n",
    "import json\n",
    "import time\n",
    "import re"
   ]
  },
  {
   "cell_type": "code",
   "execution_count": 9,
   "metadata": {},
   "outputs": [],
   "source": [
    "url = 'https://5ka.ru/api/v2/special_offers/'\n",
    "headers = {'User-agent': 'Mozilla/5.0 (Windows NT 10.0; WOW64) AppleWebKit/537.36 (KHTML, like Gecko) Chrome/79.0.3945.136 YaBrowser/20.2.4.143 Yowser/2.5 Yptp/1.56 Safari/537.36'}\n",
    "cat_url = 'https://5ka.ru/api/v2/categories/'"
   ]
  },
  {
   "cell_type": "code",
   "execution_count": 10,
   "metadata": {},
   "outputs": [],
   "source": [
    "categories_response =requests.get(cat_url, headers=headers)\n",
    "categories_json =json.loads(categories_response.text)"
   ]
  },
  {
   "cell_type": "code",
   "execution_count": 11,
   "metadata": {},
   "outputs": [],
   "source": [
    "reg = re.compile('[^a-zA-Zа-яА-я1-90!? ]')\n",
    "categories = dict()\n",
    "for cat in categories_json:\n",
    "    categories[cat['parent_group_code']] = reg.sub('', cat['parent_group_name'])"
   ]
  },
  {
   "cell_type": "code",
   "execution_count": 12,
   "metadata": {},
   "outputs": [],
   "source": [
    "def goods_pack(url, params, category):\n",
    "    result = []\n",
    "    while url:\n",
    "        response = requests.get(url, headers=headers, params=params) if params else requests.get(url, headers=headers)\n",
    "        params = None\n",
    "        data = response.json()\n",
    "        result.extend(data.get('results'))\n",
    "        url = data.get('next')\n",
    "        time.sleep(1)\n",
    "    with open(category + '.json', 'w') as file:\n",
    "        file.write(json.dumps(data))\n",
    "    return result"
   ]
  },
  {
   "cell_type": "code",
   "execution_count": 13,
   "metadata": {},
   "outputs": [],
   "source": [
    "for category in categories.keys():\n",
    "    params = {'categories':category}\n",
    "    goods_pack(url, params, categories[category])"
   ]
  },
  {
   "cell_type": "code",
   "execution_count": null,
   "metadata": {},
   "outputs": [],
   "source": []
  }
 ],
 "metadata": {
  "kernelspec": {
   "display_name": "Python 3",
   "language": "python",
   "name": "python3"
  },
  "language_info": {
   "codemirror_mode": {
    "name": "ipython",
    "version": 3
   },
   "file_extension": ".py",
   "mimetype": "text/x-python",
   "name": "python",
   "nbconvert_exporter": "python",
   "pygments_lexer": "ipython3",
   "version": "3.8.2"
  }
 },
 "nbformat": 4,
 "nbformat_minor": 4
}
