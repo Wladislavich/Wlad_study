{
 "cells": [
  {
   "cell_type": "markdown",
   "id": "dfcd9d2a-d96a-4042-846a-d2846a8dd9d0",
   "metadata": {},
   "source": [
    "# 8.Addition, subtraction, multiplication, division"
   ]
  },
  {
   "cell_type": "markdown",
   "id": "294f4e05-d4cb-42a8-abcb-e99421599cba",
   "metadata": {},
   "source": [
    "## Excercises"
   ]
  },
  {
   "cell_type": "code",
   "execution_count": 10,
   "id": "0ce94a47-18bf-4b54-84cd-f8bd88c988d4",
   "metadata": {},
   "outputs": [
    {
     "data": {
      "text/plain": [
       "4.7"
      ]
     },
     "execution_count": 10,
     "metadata": {},
     "output_type": "execute_result"
    }
   ],
   "source": [
    "5 - 2/4 * 3/5"
   ]
  },
  {
   "cell_type": "code",
   "execution_count": 13,
   "id": "32743770-bff4-4e3c-a7ea-9aa9cd0662d1",
   "metadata": {},
   "outputs": [
    {
     "data": {
      "text/plain": [
       "-0.0303"
      ]
     },
     "execution_count": 13,
     "metadata": {},
     "output_type": "execute_result"
    }
   ],
   "source": [
    "round( (4 - 5) / (3 + 5 * 6) , 4)"
   ]
  },
  {
   "cell_type": "markdown",
   "id": "57108080-30ac-47ab-871a-363d94fbd657",
   "metadata": {},
   "source": [
    "# 9. Using variables in place of numbers"
   ]
  },
  {
   "cell_type": "markdown",
   "id": "e1c7f682-624c-4855-9be5-efd9a9e66ca9",
   "metadata": {},
   "source": [
    "## Excercises"
   ]
  },
  {
   "cell_type": "code",
   "execution_count": 24,
   "id": "6dac9ee1-f6f4-4790-8446-1c4c849b2c24",
   "metadata": {},
   "outputs": [],
   "source": [
    "x = 7\n",
    "y = -2\n",
    "z = 5"
   ]
  },
  {
   "cell_type": "code",
   "execution_count": 27,
   "id": "07a22746-ea87-4a15-b939-7e96aa032284",
   "metadata": {},
   "outputs": [
    {
     "name": "stdout",
     "output_type": "stream",
     "text": [
      "42\n",
      "0.0\n"
     ]
    }
   ],
   "source": [
    "print( 3 * x * (4 + y) )\n",
    "print( -y - (x + 3) / z )"
   ]
  },
  {
   "cell_type": "markdown",
   "id": "c4f834d6-371e-40a0-ad12-df8245b5001f",
   "metadata": {},
   "source": [
    "# 10. Printing out equations in Jupyter notebook"
   ]
  },
  {
   "cell_type": "code",
   "execution_count": 3,
   "id": "8a1d6b84-81a5-4d7f-89b1-d3c885d0cc94",
   "metadata": {},
   "outputs": [],
   "source": [
    "from IPython.display import display, Math"
   ]
  },
  {
   "cell_type": "code",
   "execution_count": 4,
   "id": "509b9369-2241-4add-b3ed-e14c7688626d",
   "metadata": {},
   "outputs": [],
   "source": [
    "x = 4\n",
    "y = 5"
   ]
  },
  {
   "cell_type": "code",
   "execution_count": 6,
   "id": "9c120840-c700-4231-9829-759747186258",
   "metadata": {},
   "outputs": [
    {
     "data": {
      "text/latex": [
       "$\\displaystyle 4 + 5 = 9$"
      ],
      "text/plain": [
       "<IPython.core.display.Math object>"
      ]
     },
     "metadata": {},
     "output_type": "display_data"
    },
    {
     "data": {
      "text/latex": [
       "$\\displaystyle \\frac{4}{5} = .8$"
      ],
      "text/plain": [
       "<IPython.core.display.Math object>"
      ]
     },
     "metadata": {},
     "output_type": "display_data"
    }
   ],
   "source": [
    "display(Math( '%g + %g = %g' %(x,y,x+y) ))\n",
    "display(Math( '\\\\frac{4}{5} = .8')) #LATEX coding"
   ]
  },
  {
   "cell_type": "code",
   "execution_count": 7,
   "id": "10b19845-f7a7-4b3a-8a91-ee0cd8db0e03",
   "metadata": {},
   "outputs": [
    {
     "data": {
      "text/latex": [
       "$\\displaystyle 3.4 \\times 17 = 57.8 $"
      ],
      "text/plain": [
       "<IPython.core.display.Math object>"
      ]
     },
     "metadata": {},
     "output_type": "display_data"
    }
   ],
   "source": [
    "x = 3.4\n",
    "y = 17\n",
    "\n",
    "display(Math('%g \\\\times %g = %g ' %(x,y,x*y)))"
   ]
  },
  {
   "cell_type": "markdown",
   "id": "57e21c46-97d5-4a07-94d6-482e69f93b1a",
   "metadata": {},
   "source": [
    "## Excercise"
   ]
  },
  {
   "cell_type": "code",
   "execution_count": 14,
   "id": "3551bd9c-0b65-42d2-a2b3-52f3be1aa094",
   "metadata": {},
   "outputs": [
    {
     "data": {
      "text/latex": [
       "$\\displaystyle 3x(4 + y) = 42$"
      ],
      "text/plain": [
       "<IPython.core.display.Math object>"
      ]
     },
     "metadata": {},
     "output_type": "display_data"
    },
    {
     "data": {
      "text/latex": [
       "$\\displaystyle 3 \\times 7 \\times (4  -2) = 42$"
      ],
      "text/plain": [
       "<IPython.core.display.Math object>"
      ]
     },
     "metadata": {},
     "output_type": "display_data"
    },
    {
     "data": {
      "text/latex": [
       "$\\displaystyle -y - \\frac{x + 3}{z} = 0$"
      ],
      "text/plain": [
       "<IPython.core.display.Math object>"
      ]
     },
     "metadata": {},
     "output_type": "display_data"
    },
    {
     "data": {
      "text/latex": [
       "$\\displaystyle -2 - \\frac{7 + 3}{5} = 0$"
      ],
      "text/plain": [
       "<IPython.core.display.Math object>"
      ]
     },
     "metadata": {},
     "output_type": "display_data"
    }
   ],
   "source": [
    "x = 7\n",
    "y = -2\n",
    "z = 5\n",
    "\n",
    "display(Math( '3x(4 + y) = 42' ))\n",
    "display(Math( '3 \\\\times %g \\\\times (4  %g) = %g' %(x,y, 3*x*( 4+y )) ))\n",
    "\n",
    "display(Math( '-y - \\\\frac{x + 3}{z} = 0' ))\n",
    "display(Math( '%g - \\\\frac{%g + 3}{%g} = %g' %(y,x,z, -y - (x + 3) / z) ))\n"
   ]
  },
  {
   "cell_type": "markdown",
   "id": "cba5726b-e0d8-4f7f-b7a5-ce4b5348bfa0",
   "metadata": {},
   "source": [
    "# 11. Python comments"
   ]
  },
  {
   "cell_type": "markdown",
   "id": "2a9e0e51-74f7-4505-b630-7f842bcc619b",
   "metadata": {},
   "source": [
    "use ctr + / to comment/uncomment a row/rows"
   ]
  },
  {
   "cell_type": "markdown",
   "id": "b36b30b8-e360-450b-9c40-649236bcc6e2",
   "metadata": {},
   "source": [
    "# 12. Exponents (powers)"
   ]
  },
  {
   "cell_type": "markdown",
   "id": "774a642a-6963-43fd-b525-386ec24b57e3",
   "metadata": {},
   "source": [
    "## The law of exponents"
   ]
  },
  {
   "cell_type": "code",
   "execution_count": 3,
   "id": "5b7291dc-d34b-4176-b040-11773b97460d",
   "metadata": {},
   "outputs": [],
   "source": [
    "# 3**2 * 3**4 = 3**(3+4) = 3*3*3*3*3*3"
   ]
  },
  {
   "cell_type": "code",
   "execution_count": 8,
   "id": "375ba79e-ba8c-4623-892b-654e0312ca91",
   "metadata": {},
   "outputs": [
    {
     "data": {
      "text/latex": [
       "$\\displaystyle 3^2 \\times 3^4 = 3^{2+4}$"
      ],
      "text/plain": [
       "<IPython.core.display.Math object>"
      ]
     },
     "metadata": {},
     "output_type": "display_data"
    }
   ],
   "source": [
    "from IPython.display import display, Math\n",
    "display(Math('3^2 \\\\times 3^4 = 3^{2+4}'))"
   ]
  },
  {
   "cell_type": "markdown",
   "id": "b851428b-c1b5-4a08-89e9-d33855f1e896",
   "metadata": {},
   "source": [
    "## Excercise"
   ]
  },
  {
   "cell_type": "code",
   "execution_count": 23,
   "id": "8b4ccd05-a521-4e3b-8172-42ed718716cc",
   "metadata": {},
   "outputs": [
    {
     "data": {
      "text/latex": [
       "$\\displaystyle x^{3/4}\\times4^y = 3933.09$"
      ],
      "text/plain": [
       "<IPython.core.display.Math object>"
      ]
     },
     "metadata": {},
     "output_type": "display_data"
    },
    {
     "data": {
      "text/latex": [
       "$\\displaystyle \\frac{3^3}{x^y} = 0.00735558$"
      ],
      "text/plain": [
       "<IPython.core.display.Math object>"
      ]
     },
     "metadata": {},
     "output_type": "display_data"
    },
    {
     "data": {
      "text/latex": [
       "$\\displaystyle 10^{x-4} = 10$"
      ],
      "text/plain": [
       "<IPython.core.display.Math object>"
      ]
     },
     "metadata": {},
     "output_type": "display_data"
    }
   ],
   "source": [
    "x = 5\n",
    "y = 5.1\n",
    "\n",
    "result = x**(3/4) * 4**y\n",
    "display(Math( 'x^{3/4}\\\\times4^y = %g' %result ))\n",
    "\n",
    "result = 3**3 / x**y\n",
    "display(Math( '\\\\frac{3^3}{x^y} = %g' %result))\n",
    "\n",
    "result = 10**(x-4)\n",
    "display(Math( '10^{x-4} = %g' %result))"
   ]
  },
  {
   "cell_type": "code",
   "execution_count": 12,
   "id": "68d99d2c-4153-49b6-ac28-770ca70a0cac",
   "metadata": {},
   "outputs": [
    {
     "data": {
      "text/plain": [
       "3933.086147822751"
      ]
     },
     "execution_count": 12,
     "metadata": {},
     "output_type": "execute_result"
    }
   ],
   "source": [
    "x = 5\n",
    "y = 5.1\n",
    "x**(3/4) * 4**y"
   ]
  },
  {
   "cell_type": "markdown",
   "id": "84a08233-7b00-4ddf-9e89-2050f756d87a",
   "metadata": {},
   "source": [
    "# 13. Using for-loops to compute powers"
   ]
  },
  {
   "cell_type": "markdown",
   "id": "72169596-26a7-4581-8105-18fad64abd04",
   "metadata": {},
   "source": [
    "## Excercise"
   ]
  },
  {
   "cell_type": "code",
   "execution_count": 13,
   "id": "8f50e27b-d7ec-44f1-b8f6-f90d61426a1b",
   "metadata": {},
   "outputs": [
    {
     "name": "stdout",
     "output_type": "stream",
     "text": [
      "2 to the power of 0 is 1\n",
      "2 to the power of 1 is 2\n",
      "2 to the power of 2 is 4\n",
      "2 to the power of 3 is 8\n",
      "2 to the power of 4 is 16\n",
      "2 to the power of 5 is 32\n",
      "2 to the power of 6 is 64\n",
      "2 to the power of 7 is 128\n",
      "2 to the power of 8 is 256\n",
      "2 to the power of 9 is 512\n"
     ]
    }
   ],
   "source": [
    "base = 2\n",
    "for power in range(0,10):\n",
    "    print(f'{number} to the power of {power} is {base**power}')"
   ]
  },
  {
   "cell_type": "markdown",
   "id": "1df9d001-7625-4c8f-8e65-c5752b4ccb88",
   "metadata": {},
   "source": [
    "# 14. Order of operations"
   ]
  },
  {
   "cell_type": "markdown",
   "id": "e206eb0f-d999-4e7a-90e3-909e4b884da8",
   "metadata": {},
   "source": [
    "1. Parentheses\n",
    "2. Exponents\n",
    "3. Multiplication and Division\n",
    "4. Addition and Subtraction"
   ]
  },
  {
   "cell_type": "markdown",
   "id": "b511a380-535e-4c6b-b2d3-03475256a8f6",
   "metadata": {},
   "source": [
    "## Excercises"
   ]
  },
  {
   "cell_type": "code",
   "execution_count": 19,
   "id": "82d23fb0-28f1-47ff-b20f-5b851d3a6e91",
   "metadata": {},
   "outputs": [
    {
     "name": "stdout",
     "output_type": "stream",
     "text": [
      "2.0\n",
      "0.0\n"
     ]
    }
   ],
   "source": [
    "print( 4 * 5 / (7 + 3) )\n",
    "print( 9 / (3 + 6) - 1 )"
   ]
  },
  {
   "cell_type": "markdown",
   "id": "7e7380ae-0675-40a4-8b1b-1e7336f1571d",
   "metadata": {},
   "source": [
    "# 15. Testing inequalities and Boolean data type"
   ]
  },
  {
   "cell_type": "markdown",
   "id": "22d3cf90-75a0-4479-be1a-2972e3bc94fa",
   "metadata": {},
   "source": [
    "## Excercise"
   ]
  },
  {
   "cell_type": "code",
   "execution_count": 14,
   "id": "ed347d7b-4b50-4d8f-84f8-e578dd3fe2f7",
   "metadata": {},
   "outputs": [
    {
     "name": "stdout",
     "output_type": "stream",
     "text": [
      "True\n",
      "True\n",
      "False\n",
      "True\n",
      "False\n",
      "True\n"
     ]
    }
   ],
   "source": [
    "for x in range(2,5):\n",
    "    print( 4 * x + 3 < 17 - x**2 )\n",
    "    print( 8 * x - 2 <= -3 * x + 42 )"
   ]
  },
  {
   "cell_type": "markdown",
   "id": "c7b23add-065c-41b9-902d-15ded7012f02",
   "metadata": {},
   "source": [
    "# 16. Using if-statements and logical operators"
   ]
  },
  {
   "cell_type": "markdown",
   "id": "8b2da549-b6f9-4c15-8d4e-ce93f7aff0c2",
   "metadata": {},
   "source": [
    "## Excercise"
   ]
  },
  {
   "cell_type": "code",
   "execution_count": 28,
   "id": "13afe403-a478-427f-9d72-27b11a9d723f",
   "metadata": {},
   "outputs": [
    {
     "data": {
      "text/latex": [
       "$\\displaystyle  1^{-1} = 1$"
      ],
      "text/plain": [
       "<IPython.core.display.Math object>"
      ]
     },
     "metadata": {},
     "output_type": "display_data"
    },
    {
     "data": {
      "text/latex": [
       "$\\displaystyle  1^{-2} = 1$"
      ],
      "text/plain": [
       "<IPython.core.display.Math object>"
      ]
     },
     "metadata": {},
     "output_type": "display_data"
    },
    {
     "data": {
      "text/latex": [
       "$\\displaystyle  1^{-3} = 1$"
      ],
      "text/plain": [
       "<IPython.core.display.Math object>"
      ]
     },
     "metadata": {},
     "output_type": "display_data"
    },
    {
     "data": {
      "text/latex": [
       "$\\displaystyle  1^{-4} = 1$"
      ],
      "text/plain": [
       "<IPython.core.display.Math object>"
      ]
     },
     "metadata": {},
     "output_type": "display_data"
    },
    {
     "data": {
      "text/latex": [
       "$\\displaystyle  2^{-1} = 0.5$"
      ],
      "text/plain": [
       "<IPython.core.display.Math object>"
      ]
     },
     "metadata": {},
     "output_type": "display_data"
    },
    {
     "data": {
      "text/latex": [
       "$\\displaystyle  2^{-2} = 0.25$"
      ],
      "text/plain": [
       "<IPython.core.display.Math object>"
      ]
     },
     "metadata": {},
     "output_type": "display_data"
    },
    {
     "data": {
      "text/latex": [
       "$\\displaystyle  2^{-3} = 0.125$"
      ],
      "text/plain": [
       "<IPython.core.display.Math object>"
      ]
     },
     "metadata": {},
     "output_type": "display_data"
    },
    {
     "data": {
      "text/latex": [
       "$\\displaystyle  2^{-4} = 0.0625$"
      ],
      "text/plain": [
       "<IPython.core.display.Math object>"
      ]
     },
     "metadata": {},
     "output_type": "display_data"
    },
    {
     "data": {
      "text/latex": [
       "$\\displaystyle  3^{-1} = 0.333333$"
      ],
      "text/plain": [
       "<IPython.core.display.Math object>"
      ]
     },
     "metadata": {},
     "output_type": "display_data"
    },
    {
     "data": {
      "text/latex": [
       "$\\displaystyle  3^{-2} = 0.111111$"
      ],
      "text/plain": [
       "<IPython.core.display.Math object>"
      ]
     },
     "metadata": {},
     "output_type": "display_data"
    },
    {
     "data": {
      "text/latex": [
       "$\\displaystyle  3^{-3} = 0.037037$"
      ],
      "text/plain": [
       "<IPython.core.display.Math object>"
      ]
     },
     "metadata": {},
     "output_type": "display_data"
    },
    {
     "data": {
      "text/latex": [
       "$\\displaystyle  3^{-4} = 0.0123457$"
      ],
      "text/plain": [
       "<IPython.core.display.Math object>"
      ]
     },
     "metadata": {},
     "output_type": "display_data"
    }
   ],
   "source": [
    "from IPython.display import display, Math\n",
    "for i in range(0,4):\n",
    "    for j in range(0,5):\n",
    "        if i > 0 and j > 0:\n",
    "            display(Math( ' %g^{-%g} = %g' %(i,j,i**-j) ))"
   ]
  },
  {
   "cell_type": "markdown",
   "id": "1cb5ba1f-53d8-4de5-9ed6-f284db974a52",
   "metadata": {},
   "source": [
    "# 17. Absolute value"
   ]
  },
  {
   "cell_type": "code",
   "execution_count": 5,
   "id": "74ee66f0-9adc-4fad-9ac2-862803981566",
   "metadata": {},
   "outputs": [
    {
     "data": {
      "text/latex": [
       "$\\displaystyle |-4.3| = 4.3$"
      ],
      "text/plain": [
       "<IPython.core.display.Math object>"
      ]
     },
     "metadata": {},
     "output_type": "display_data"
    }
   ],
   "source": [
    "from IPython.display import display, Math\n",
    "x = -4.3\n",
    "\n",
    "display(Math('|%g| = %g' %(x,abs(x))))"
   ]
  },
  {
   "cell_type": "markdown",
   "id": "b317cf23-5f89-412b-9e37-8fea8bf003b4",
   "metadata": {},
   "source": [
    "## Excercises"
   ]
  },
  {
   "cell_type": "code",
   "execution_count": 12,
   "id": "3edd6e4d-27c8-4e69-91eb-29b01aa2c4e0",
   "metadata": {},
   "outputs": [
    {
     "name": "stdout",
     "output_type": "stream",
     "text": [
      "-4 was not tested\n",
      "Absolute value of 6 is 6\n",
      "-1 was not tested\n",
      "Absolute value of 43 is 43\n",
      "Absolute value of -18 is -18\n",
      "2 was not tested\n",
      "0 was not tested\n"
     ]
    }
   ],
   "source": [
    "num_set = [-4, 6, -1, 43, -18, 2, 0]\n",
    "\n",
    "for num in num_set:\n",
    "    if num < -5 or num > 2:\n",
    "        print(f'Absolute value of {num} is {num}')\n",
    "    else:\n",
    "        print(f'{num} was not tested')"
   ]
  },
  {
   "cell_type": "markdown",
   "id": "4128fcea-0e71-4c3d-8453-81a39a9eea6c",
   "metadata": {},
   "source": [
    "# 18. Remainder after division (modulus)"
   ]
  },
  {
   "cell_type": "code",
   "execution_count": 5,
   "id": "04b8bd3c-4a63-4c4f-8ee5-686844ee2245",
   "metadata": {},
   "outputs": [
    {
     "name": "stdout",
     "output_type": "stream",
     "text": [
      "3.3333333333333335\n",
      "3\n",
      "2\n",
      "3 goes into 11, 3 times with a remainder of 2.\n"
     ]
    }
   ],
   "source": [
    "a = 11\n",
    "b = 3\n",
    "\n",
    "# decimal division\n",
    "print(10 / 3)\n",
    "\n",
    "# integer division\n",
    "print(int(10 / 3))\n",
    "\n",
    "# remainder (modulus)\n",
    "print(a % b)\n",
    "\n",
    "# example\n",
    "divis = int(a/b)\n",
    "remainder = a%b\n",
    "\n",
    "print('%g goes into %g, %g times with a remainder of %g.' %(b,a,divis,remainder))"
   ]
  },
  {
   "cell_type": "markdown",
   "id": "7c417f50-0c8f-462f-a64e-5c61d4b3eb71",
   "metadata": {},
   "source": [
    "## Excercise"
   ]
  },
  {
   "cell_type": "code",
   "execution_count": 15,
   "id": "beb0f540-7cc1-4952-9a88-c1d1dff1cb2b",
   "metadata": {},
   "outputs": [
    {
     "name": "stdout",
     "output_type": "stream",
     "text": [
      "-5 is odd  number\n",
      "-4 is even number\n",
      "-3 is odd  number\n",
      "-2 is even number\n",
      "-1 is odd  number\n",
      " 0 is even number\n",
      " 1 is odd  number\n",
      " 2 is even number\n",
      " 3 is odd  number\n",
      " 4 is even number\n",
      " 5 is odd  number\n"
     ]
    }
   ],
   "source": [
    "for num in range(-5,6):\n",
    "    first_symbol = ' ' if num >= 0 else ''\n",
    "    parity = 'even' if num % 2 == 0 else 'odd'\n",
    "    print(f'{first_symbol}{num} is {parity:4} number')"
   ]
  },
  {
   "cell_type": "markdown",
   "id": "75312f9e-7791-4e34-ac44-b6b6d525b90e",
   "metadata": {},
   "source": [
    "# 19. Create interactive math functions, part 1"
   ]
  },
  {
   "cell_type": "code",
   "execution_count": null,
   "id": "fb7e37b2-cba5-43be-9abd-fac0e884fbb1",
   "metadata": {},
   "outputs": [],
   "source": []
  }
 ],
 "metadata": {
  "kernelspec": {
   "display_name": "Python 3 (ipykernel)",
   "language": "python",
   "name": "python3"
  },
  "language_info": {
   "codemirror_mode": {
    "name": "ipython",
    "version": 3
   },
   "file_extension": ".py",
   "mimetype": "text/x-python",
   "name": "python",
   "nbconvert_exporter": "python",
   "pygments_lexer": "ipython3",
   "version": "3.12.4"
  }
 },
 "nbformat": 4,
 "nbformat_minor": 5
}
