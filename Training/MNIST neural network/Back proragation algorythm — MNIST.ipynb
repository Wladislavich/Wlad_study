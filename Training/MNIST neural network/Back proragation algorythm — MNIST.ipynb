{
 "cells": [
  {
   "cell_type": "code",
   "execution_count": 1,
   "metadata": {
    "ExecuteTime": {
     "end_time": "2020-10-25T09:51:09.884823Z",
     "start_time": "2020-10-25T09:51:09.881787Z"
    }
   },
   "outputs": [],
   "source": [
    "import numpy as np\n",
    "import pandas as pd\n",
    "import matplotlib.pyplot as plt\n",
    "import plotly.express as px\n",
    "import random\n",
    "from mlxtend.data import mnist_data"
   ]
  },
  {
   "cell_type": "code",
   "execution_count": 2,
   "metadata": {
    "ExecuteTime": {
     "end_time": "2020-10-25T09:37:35.235587Z",
     "start_time": "2020-10-25T09:37:35.231089Z"
    }
   },
   "outputs": [],
   "source": [
    "#Расчёт слоёв нейронной сети\n",
    "\n",
    "def neurons_values(input_, weights, biases, function):\n",
    "    '''\n",
    "    Расчёт значений нейронов на всех слоях\n",
    "    необходимо ввести нейроны первого слоя, веса, байесы и преобразующую функцию сети\n",
    "    '''\n",
    "    neurons = [input_]\n",
    "    for i in range(len(weights)):\n",
    "        neurons.append(list(function(np.dot(neurons[len(neurons)-1], weights[i]) + biases[i])))\n",
    "    return neurons"
   ]
  },
  {
   "cell_type": "code",
   "execution_count": 3,
   "metadata": {
    "ExecuteTime": {
     "end_time": "2020-10-25T09:37:35.249551Z",
     "start_time": "2020-10-25T09:37:35.238579Z"
    }
   },
   "outputs": [],
   "source": [
    "#расчёт градиента для обатного распространения\n",
    "\n",
    "def gradient_values(neurons, output, weights, biases, diff_function):\n",
    "    n =len(neurons)-2\n",
    "    dB=list(np.empty(n+1))\n",
    "    dB[n]=2*(np.array(neurons[n+1])-np.array(output))* \\\n",
    "    diff_function(np.dot(neurons[n],weights[n])+np.array(biases[n]))\n",
    "    for k in range(1,n+1):\n",
    "        dB[n-k] = np.dot(dB[n-k+1],np.array(weights[n-k+1]).T)* \\\n",
    "        diff_function(np.dot(neurons[n-k],weights[n-k])+biases[n-k])\n",
    "    dW = []\n",
    "    for k in range(n+1):\n",
    "        dW.append(np.dot(np.array(neurons[k]).reshape(-1,1), np.array(dB[k]).reshape(1,-1)))\n",
    "    return dB, dW"
   ]
  },
  {
   "cell_type": "code",
   "execution_count": 4,
   "metadata": {},
   "outputs": [],
   "source": [
    "def net_generator(*args):\n",
    "    W = []\n",
    "    for i, el in enumerate(args[:-1]):\n",
    "        W.append(np.ones((el, args[i+1])))\n",
    "    B = [np.ones(x) for x in args[1:]]\n",
    "    return np.array(W), np.array(B)"
   ]
  },
  {
   "cell_type": "code",
   "execution_count": 5,
   "metadata": {
    "ExecuteTime": {
     "end_time": "2020-10-25T10:22:03.055090Z",
     "start_time": "2020-10-25T10:21:59.506999Z"
    }
   },
   "outputs": [],
   "source": [
    "Inputs,Outputs=mnist_data()\n",
    "\n",
    "def values_generator(Inputs,Outputs):\n",
    "    a=random.randint(0,4999) \n",
    "    return(Inputs[a],Outputs[a])"
   ]
  },
  {
   "cell_type": "code",
   "execution_count": 6,
   "metadata": {
    "ExecuteTime": {
     "end_time": "2020-10-25T10:19:34.509459Z",
     "start_time": "2020-10-25T10:19:34.503477Z"
    }
   },
   "outputs": [],
   "source": [
    "def sigmoid(x):\n",
    "    s = 1/(1+np.exp(-x))\n",
    "    return s\n",
    "\n",
    "def derivative_sigmoid(x):\n",
    "    ds = np.exp(-x) / (1+np.exp(-x))**2\n",
    "    return ds"
   ]
  },
  {
   "cell_type": "code",
   "execution_count": 13,
   "metadata": {
    "ExecuteTime": {
     "end_time": "2020-10-25T10:28:40.829597Z",
     "start_time": "2020-10-25T10:26:30.948393Z"
    },
    "scrolled": true
   },
   "outputs": [
    {
     "ename": "NameError",
     "evalue": "name 'net_generator' is not defined",
     "output_type": "error",
     "traceback": [
      "\u001b[1;31m---------------------------------------------------------------------------\u001b[0m",
      "\u001b[1;31mNameError\u001b[0m                                 Traceback (most recent call last)",
      "\u001b[1;32m<ipython-input-13-58e021bffaa7>\u001b[0m in \u001b[0;36m<module>\u001b[1;34m\u001b[0m\n\u001b[1;32m----> 1\u001b[1;33m \u001b[0mW\u001b[0m\u001b[1;33m,\u001b[0m \u001b[0mB\u001b[0m \u001b[1;33m=\u001b[0m \u001b[0mnet_generator\u001b[0m\u001b[1;33m(\u001b[0m\u001b[1;36m784\u001b[0m\u001b[1;33m,\u001b[0m \u001b[1;36m2\u001b[0m\u001b[1;33m,\u001b[0m \u001b[1;36m1\u001b[0m\u001b[1;33m)\u001b[0m\u001b[1;33m\u001b[0m\u001b[1;33m\u001b[0m\u001b[0m\n\u001b[0m\u001b[0;32m      2\u001b[0m \u001b[1;32mfor\u001b[0m \u001b[0mcycle_num\u001b[0m \u001b[1;32min\u001b[0m \u001b[0mrange\u001b[0m\u001b[1;33m(\u001b[0m\u001b[1;36m1000000\u001b[0m\u001b[1;33m)\u001b[0m\u001b[1;33m:\u001b[0m\u001b[1;33m\u001b[0m\u001b[1;33m\u001b[0m\u001b[0m\n\u001b[0;32m      3\u001b[0m     \u001b[0mspeed\u001b[0m \u001b[1;33m=\u001b[0m \u001b[1;36m0.5\u001b[0m\u001b[1;33m\u001b[0m\u001b[1;33m\u001b[0m\u001b[0m\n\u001b[0;32m      4\u001b[0m     \u001b[0mI\u001b[0m\u001b[1;33m,\u001b[0m \u001b[0mO\u001b[0m \u001b[1;33m=\u001b[0m \u001b[0mvalues_generator\u001b[0m\u001b[1;33m(\u001b[0m\u001b[0mInputs\u001b[0m\u001b[1;33m,\u001b[0m\u001b[0mOutputs\u001b[0m\u001b[1;33m)\u001b[0m\u001b[1;33m\u001b[0m\u001b[1;33m\u001b[0m\u001b[0m\n\u001b[0;32m      5\u001b[0m     \u001b[0mneurons\u001b[0m \u001b[1;33m=\u001b[0m \u001b[0mneurons_values\u001b[0m\u001b[1;33m(\u001b[0m\u001b[0mI\u001b[0m\u001b[1;33m,\u001b[0m \u001b[0mW\u001b[0m\u001b[1;33m,\u001b[0m \u001b[0mB\u001b[0m\u001b[1;33m,\u001b[0m \u001b[0msigmoid\u001b[0m\u001b[1;33m)\u001b[0m\u001b[1;33m\u001b[0m\u001b[1;33m\u001b[0m\u001b[0m\n",
      "\u001b[1;31mNameError\u001b[0m: name 'net_generator' is not defined"
     ]
    }
   ],
   "source": [
    "W, B = net_generator(784, 2, 1)\n",
    "for cycle_num in range(1000000):\n",
    "    speed = 0.5\n",
    "    I, O = values_generator(Inputs,Outputs)\n",
    "    neurons = neurons_values(I, W, B, sigmoid)\n",
    "    last_layer = int(neurons[-1][0]*10)\n",
    "    if cycle_num % 1000 == 0:\n",
    "        print(f'cycle {cycle_num}, last_layer {last_layer}, O {O} ,difference {np.abs(last_layer - O)}')\n",
    "    dB, dW = gradient_values(neurons, O, W, B, derivative_sigmoid)\n",
    "    for i in range(len(B)):\n",
    "        B[i] -= dB[i] * speed\n",
    "        W[i] -= dW[i] * speed"
   ]
  },
  {
   "cell_type": "code",
   "execution_count": 7,
   "metadata": {
    "ExecuteTime": {
     "end_time": "2020-10-25T10:43:31.639671Z",
     "start_time": "2020-10-25T10:43:31.634682Z"
    }
   },
   "outputs": [],
   "source": [
    "def values_generator2():\n",
    "    a,b,c = np.random.standard_normal(3) \n",
    "    d = np.cos(a+b+c)  \n",
    "    return [[a,b,c],d]"
   ]
  },
  {
   "cell_type": "code",
   "execution_count": 16,
   "metadata": {},
   "outputs": [],
   "source": [
    "def values_generator3():\n",
    "    a,b,c = np.random.randint(1, 100, size=3)\n",
    "    d = 1/(a+b+c)  \n",
    "    return [[a,b,c],d]"
   ]
  },
  {
   "cell_type": "code",
   "execution_count": 17,
   "metadata": {
    "ExecuteTime": {
     "end_time": "2020-10-25T10:54:57.514758Z",
     "start_time": "2020-10-25T10:53:50.958405Z"
    },
    "scrolled": true
   },
   "outputs": [
    {
     "name": "stderr",
     "output_type": "stream",
     "text": [
      "<ipython-input-4-ee313b4f450a>:6: VisibleDeprecationWarning: Creating an ndarray from ragged nested sequences (which is a list-or-tuple of lists-or-tuples-or ndarrays with different lengths or shapes) is deprecated. If you meant to do this, you must specify 'dtype=object' when creating the ndarray\n",
      "  return np.array(W), np.array(B)\n"
     ]
    },
    {
     "data": {
      "text/plain": [
       "<matplotlib.axes._subplots.AxesSubplot at 0x1ea2b5af460>"
      ]
     },
     "execution_count": 17,
     "metadata": {},
     "output_type": "execute_result"
    },
    {
     "data": {
      "image/png": "[encoded data removed]",
      "text/plain": [
       "<Figure size 432x288 with 1 Axes>"
      ]
     },
     "metadata": {
      "needs_background": "light"
     },
     "output_type": "display_data"
    }
   ],
   "source": [
    "W, B = net_generator(3, 10, 5, 1)\n",
    "batch_size = 1000\n",
    "cyrcles = []\n",
    "differencies = []\n",
    "speed = 0.5\n",
    "for cycle_num in range(100000):\n",
    "    I, O = values_generator3()\n",
    "    neurons = neurons_values(I, W, B, np.sin)\n",
    "    last_layer = neurons[-1][0]\n",
    "    #if cycle_num % 100000 == 0:\n",
    "        #print(f'cycle {cycle_num}, last_layer {last_layer}, O {O} ,difference {np.abs(last_layer - O)}')\n",
    "    dB, dW = gradient_values(neurons, O, W, B, np.cos)\n",
    "    if cycle_num == 0:\n",
    "        dB_batch = dB.copy()\n",
    "        dW_batch = dW.copy()\n",
    "    if cycle_num % batch_size == 0 and cycle_num != 0:\n",
    "        for i in range(len(B)):\n",
    "            dB_batch[i] /= batch_size\n",
    "            dW_batch[i] /= batch_size\n",
    "            B[i] -= dB_batch[i] * speed\n",
    "            W[i] -= dW_batch[i] * speed\n",
    "            dB_batch[i] = 0\n",
    "            dW_batch[i] = 0\n",
    "    else:\n",
    "        for i in range(len(B)):\n",
    "            dB_batch[i] += dB[i]\n",
    "            dW_batch[i] += dW[i]\n",
    "    cyrcles.append(cycle_num)\n",
    "    differencies.append(np.abs(last_layer - O))\n",
    "\n",
    "df = pd.DataFrame({'Cyrcle': cyrcles, 'Differefence': differencies})\n",
    "df = df.set_index('Cyrcle')\n",
    "df.plot.line()    "
   ]
  },
  {
   "cell_type": "code",
   "execution_count": 15,
   "metadata": {
    "scrolled": false
   },
   "outputs": [
    {
     "name": "stderr",
     "output_type": "stream",
     "text": [
      "<ipython-input-4-ee313b4f450a>:6: VisibleDeprecationWarning: Creating an ndarray from ragged nested sequences (which is a list-or-tuple of lists-or-tuples-or ndarrays with different lengths or shapes) is deprecated. If you meant to do this, you must specify 'dtype=object' when creating the ndarray\n",
      "  return np.array(W), np.array(B)\n"
     ]
    },
    {
     "data": {
      "text/plain": [
       "<matplotlib.axes._subplots.AxesSubplot at 0x1ea2b1ffb20>"
      ]
     },
     "execution_count": 15,
     "metadata": {},
     "output_type": "execute_result"
    },
    {
     "data": {
      "image/png": "[encoded data removed]",
      "text/plain": [
       "<Figure size 432x288 with 1 Axes>"
      ]
     },
     "metadata": {
      "needs_background": "light"
     },
     "output_type": "display_data"
    }
   ],
   "source": [
    "W, B = net_generator(784, 2, 1)\n",
    "batch_size = 500\n",
    "cyrcles = []\n",
    "differencies = []\n",
    "speed = 0.5\n",
    "for cycle_num in range(300000):\n",
    "    I, O = values_generator(Inputs,Outputs)\n",
    "    neurons = neurons_values(I, W, B, sigmoid)\n",
    "    last_layer = neurons[-1][0]\n",
    "    #if cycle_num % 100000 == 0:\n",
    "        #print(f'cycle {cycle_num}, last_layer {last_layer}, O {O} ,difference {np.abs(last_layer - O)}')\n",
    "    dB, dW = gradient_values(neurons, O, W, B, derivative_sigmoid)\n",
    "    if cycle_num == 0:\n",
    "        dB_batch = dB.copy()\n",
    "        dW_batch = dW.copy()\n",
    "    if cycle_num % batch_size == 0 and cycle_num != 0:\n",
    "        for i in range(len(B)):\n",
    "            dB_batch[i] /= batch_size\n",
    "            dW_batch[i] /= batch_size\n",
    "            B[i] -= dB_batch[i] * speed\n",
    "            W[i] -= dW_batch[i] * speed\n",
    "            dB_batch[i] = 0\n",
    "            dW_batch[i] = 0\n",
    "    else:\n",
    "        for i in range(len(B)):\n",
    "            dB_batch[i] += dB[i]\n",
    "            dW_batch[i] += dW[i]\n",
    "    cyrcles.append(cycle_num)\n",
    "    differencies.append(np.abs(last_layer - O))\n",
    "\n",
    "df = pd.DataFrame({'Cyrcle': cyrcles, 'Differefence': differencies})\n",
    "df = df.set_index('Cyrcle')\n",
    "df.plot.line()    "
   ]
  },
  {
   "cell_type": "code",
   "execution_count": null,
   "metadata": {},
   "outputs": [],
   "source": []
  }
 ],
 "metadata": {
  "kernelspec": {
   "display_name": "Python 3",
   "language": "python",
   "name": "python3"
  },
  "language_info": {
   "codemirror_mode": {
    "name": "ipython",
    "version": 3
   },
   "file_extension": ".py",
   "mimetype": "text/x-python",
   "name": "python",
   "nbconvert_exporter": "python",
   "pygments_lexer": "ipython3",
   "version": "3.8.2"
  }
 },
 "nbformat": 4,
 "nbformat_minor": 4
}
