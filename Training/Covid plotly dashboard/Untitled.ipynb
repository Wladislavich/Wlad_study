{
 "cells": [
  {
   "cell_type": "code",
   "execution_count": 1,
   "metadata": {
    "ExecuteTime": {
     "end_time": "2020-10-31T11:40:44.114619Z",
     "start_time": "2020-10-31T11:40:42.342684Z"
    }
   },
   "outputs": [],
   "source": [
    "import plotly.graph_objects as go\n",
    "from plotly.subplots import make_subplots\n",
    "import pandas as pd\n",
    "import requests\n",
    "from datetime import datetime"
   ]
  },
  {
   "cell_type": "code",
   "execution_count": 13,
   "metadata": {
    "ExecuteTime": {
     "end_time": "2020-10-31T11:45:38.746592Z",
     "start_time": "2020-10-31T11:45:38.613943Z"
    }
   },
   "outputs": [],
   "source": [
    "raw= requests.get(\"https://services1.arcgis.com/0MSEUqKaxRlEPj5g/arcgis/rest/services/Coronavirus_2019_nCoV_Cases/FeatureServer/1/query?where=1%3D1&outFields=*&outSR=4326&f=json\")\n",
    "raw_json = raw.json()\n",
    "df = pd.DataFrame(raw_json[\"features\"])"
   ]
  },
  {
   "cell_type": "code",
   "execution_count": 14,
   "metadata": {
    "ExecuteTime": {
     "end_time": "2020-10-31T11:45:39.762796Z",
     "start_time": "2020-10-31T11:45:39.739365Z"
    }
   },
   "outputs": [
    {
     "data": {
      "text/html": [
       "<div>\n",
       "<style scoped>\n",
       "    .dataframe tbody tr th:only-of-type {\n",
       "        vertical-align: middle;\n",
       "    }\n",
       "\n",
       "    .dataframe tbody tr th {\n",
       "        vertical-align: top;\n",
       "    }\n",
       "\n",
       "    .dataframe thead th {\n",
       "        text-align: right;\n",
       "    }\n",
       "</style>\n",
       "<table border=\"1\" class=\"dataframe\">\n",
       "  <thead>\n",
       "    <tr style=\"text-align: right;\">\n",
       "      <th></th>\n",
       "      <th>attributes</th>\n",
       "      <th>geometry</th>\n",
       "    </tr>\n",
       "  </thead>\n",
       "  <tbody>\n",
       "    <tr>\n",
       "      <th>0</th>\n",
       "      <td>{'OBJECTID': 1, 'Province_State': None, 'Count...</td>\n",
       "      <td>{'x': 67.70995300000004, 'y': 33.93911000000003}</td>\n",
       "    </tr>\n",
       "    <tr>\n",
       "      <th>1</th>\n",
       "      <td>{'OBJECTID': 2, 'Province_State': None, 'Count...</td>\n",
       "      <td>{'x': 20.168300000000045, 'y': 41.15330000000006}</td>\n",
       "    </tr>\n",
       "    <tr>\n",
       "      <th>2</th>\n",
       "      <td>{'OBJECTID': 3, 'Province_State': None, 'Count...</td>\n",
       "      <td>{'x': 1.6596000000000686, 'y': 28.033900000000...</td>\n",
       "    </tr>\n",
       "    <tr>\n",
       "      <th>3</th>\n",
       "      <td>{'OBJECTID': 4, 'Province_State': None, 'Count...</td>\n",
       "      <td>{'x': 1.5218000000000416, 'y': 42.50630000000007}</td>\n",
       "    </tr>\n",
       "    <tr>\n",
       "      <th>4</th>\n",
       "      <td>{'OBJECTID': 5, 'Province_State': None, 'Count...</td>\n",
       "      <td>{'x': 17.87390000000005, 'y': -11.202699999999...</td>\n",
       "    </tr>\n",
       "  </tbody>\n",
       "</table>\n",
       "</div>"
      ],
      "text/plain": [
       "                                          attributes  \\\n",
       "0  {'OBJECTID': 1, 'Province_State': None, 'Count...   \n",
       "1  {'OBJECTID': 2, 'Province_State': None, 'Count...   \n",
       "2  {'OBJECTID': 3, 'Province_State': None, 'Count...   \n",
       "3  {'OBJECTID': 4, 'Province_State': None, 'Count...   \n",
       "4  {'OBJECTID': 5, 'Province_State': None, 'Count...   \n",
       "\n",
       "                                            geometry  \n",
       "0   {'x': 67.70995300000004, 'y': 33.93911000000003}  \n",
       "1  {'x': 20.168300000000045, 'y': 41.15330000000006}  \n",
       "2  {'x': 1.6596000000000686, 'y': 28.033900000000...  \n",
       "3  {'x': 1.5218000000000416, 'y': 42.50630000000007}  \n",
       "4  {'x': 17.87390000000005, 'y': -11.202699999999...  "
      ]
     },
     "execution_count": 14,
     "metadata": {},
     "output_type": "execute_result"
    }
   ],
   "source": [
    "df.head()"
   ]
  },
  {
   "cell_type": "code",
   "execution_count": 16,
   "metadata": {
    "ExecuteTime": {
     "end_time": "2020-10-31T11:48:04.355737Z",
     "start_time": "2020-10-31T11:48:04.341405Z"
    },
    "collapsed": true
   },
   "outputs": [
    {
     "data": {
      "text/plain": [
       "{'OBJECTID': 1,\n",
       " 'Province_State': None,\n",
       " 'Country_Region': 'Afghanistan',\n",
       " 'Last_Update': 1604143485000,\n",
       " 'Lat': 33.93911,\n",
       " 'Long_': 67.709953,\n",
       " 'Confirmed': 41425,\n",
       " 'Recovered': 34321,\n",
       " 'Deaths': 1536,\n",
       " 'Active': 5568,\n",
       " 'Admin2': None,\n",
       " 'FIPS': None,\n",
       " 'Combined_Key': 'Afghanistan'}"
      ]
     },
     "execution_count": 16,
     "metadata": {},
     "output_type": "execute_result"
    }
   ],
   "source": [
    "df[\"attributes\"][0]"
   ]
  },
  {
   "cell_type": "code",
   "execution_count": 17,
   "metadata": {
    "ExecuteTime": {
     "end_time": "2020-10-31T11:48:13.113242Z",
     "start_time": "2020-10-31T11:48:13.105667Z"
    }
   },
   "outputs": [],
   "source": [
    "data_list = df[\"attributes\"].tolist()"
   ]
  },
  {
   "cell_type": "code",
   "execution_count": 19,
   "metadata": {
    "ExecuteTime": {
     "end_time": "2020-10-31T11:49:08.797841Z",
     "start_time": "2020-10-31T11:49:08.776651Z"
    }
   },
   "outputs": [],
   "source": [
    "data_list = df[\"attributes\"].tolist()\n",
    "df_final = pd.DataFrame(data_list)\n",
    "df_final.set_index(\"OBJECTID\")\n",
    "df_final = df_final[[\"Country_Region\", \"Province_State\", \"Lat\", \"Long_\", \"Confirmed\", \"Deaths\", \"Recovered\", \"Last_Update\"]]"
   ]
  },
  {
   "cell_type": "code",
   "execution_count": 20,
   "metadata": {
    "ExecuteTime": {
     "end_time": "2020-10-31T11:49:28.550695Z",
     "start_time": "2020-10-31T11:49:28.517123Z"
    }
   },
   "outputs": [
    {
     "data": {
      "text/html": [
       "<div>\n",
       "<style scoped>\n",
       "    .dataframe tbody tr th:only-of-type {\n",
       "        vertical-align: middle;\n",
       "    }\n",
       "\n",
       "    .dataframe tbody tr th {\n",
       "        vertical-align: top;\n",
       "    }\n",
       "\n",
       "    .dataframe thead th {\n",
       "        text-align: right;\n",
       "    }\n",
       "</style>\n",
       "<table border=\"1\" class=\"dataframe\">\n",
       "  <thead>\n",
       "    <tr style=\"text-align: right;\">\n",
       "      <th></th>\n",
       "      <th>Country_Region</th>\n",
       "      <th>Province_State</th>\n",
       "      <th>Lat</th>\n",
       "      <th>Long_</th>\n",
       "      <th>Confirmed</th>\n",
       "      <th>Deaths</th>\n",
       "      <th>Recovered</th>\n",
       "      <th>Last_Update</th>\n",
       "    </tr>\n",
       "  </thead>\n",
       "  <tbody>\n",
       "    <tr>\n",
       "      <th>0</th>\n",
       "      <td>Afghanistan</td>\n",
       "      <td>None</td>\n",
       "      <td>33.93911</td>\n",
       "      <td>67.709953</td>\n",
       "      <td>41425</td>\n",
       "      <td>1536</td>\n",
       "      <td>34321</td>\n",
       "      <td>1.604143e+12</td>\n",
       "    </tr>\n",
       "    <tr>\n",
       "      <th>1</th>\n",
       "      <td>Albania</td>\n",
       "      <td>None</td>\n",
       "      <td>41.15330</td>\n",
       "      <td>20.168300</td>\n",
       "      <td>20634</td>\n",
       "      <td>502</td>\n",
       "      <td>11097</td>\n",
       "      <td>1.604143e+12</td>\n",
       "    </tr>\n",
       "    <tr>\n",
       "      <th>2</th>\n",
       "      <td>Algeria</td>\n",
       "      <td>None</td>\n",
       "      <td>28.03390</td>\n",
       "      <td>1.659600</td>\n",
       "      <td>57651</td>\n",
       "      <td>1956</td>\n",
       "      <td>40014</td>\n",
       "      <td>1.604143e+12</td>\n",
       "    </tr>\n",
       "    <tr>\n",
       "      <th>3</th>\n",
       "      <td>Andorra</td>\n",
       "      <td>None</td>\n",
       "      <td>42.50630</td>\n",
       "      <td>1.521800</td>\n",
       "      <td>4665</td>\n",
       "      <td>75</td>\n",
       "      <td>3377</td>\n",
       "      <td>1.604143e+12</td>\n",
       "    </tr>\n",
       "    <tr>\n",
       "      <th>4</th>\n",
       "      <td>Angola</td>\n",
       "      <td>None</td>\n",
       "      <td>-11.20270</td>\n",
       "      <td>17.873900</td>\n",
       "      <td>10558</td>\n",
       "      <td>279</td>\n",
       "      <td>4107</td>\n",
       "      <td>1.604143e+12</td>\n",
       "    </tr>\n",
       "  </tbody>\n",
       "</table>\n",
       "</div>"
      ],
      "text/plain": [
       "  Country_Region Province_State       Lat      Long_  Confirmed  Deaths  \\\n",
       "0    Afghanistan           None  33.93911  67.709953      41425    1536   \n",
       "1        Albania           None  41.15330  20.168300      20634     502   \n",
       "2        Algeria           None  28.03390   1.659600      57651    1956   \n",
       "3        Andorra           None  42.50630   1.521800       4665      75   \n",
       "4         Angola           None -11.20270  17.873900      10558     279   \n",
       "\n",
       "   Recovered   Last_Update  \n",
       "0      34321  1.604143e+12  \n",
       "1      11097  1.604143e+12  \n",
       "2      40014  1.604143e+12  \n",
       "3       3377  1.604143e+12  \n",
       "4       4107  1.604143e+12  "
      ]
     },
     "execution_count": 20,
     "metadata": {},
     "output_type": "execute_result"
    }
   ],
   "source": [
    "df_final.head()"
   ]
  },
  {
   "cell_type": "code",
   "execution_count": 21,
   "metadata": {
    "ExecuteTime": {
     "end_time": "2020-10-31T11:57:39.584499Z",
     "start_time": "2020-10-31T11:57:39.494894Z"
    }
   },
   "outputs": [
    {
     "data": {
      "text/html": [
       "<div>\n",
       "<style scoped>\n",
       "    .dataframe tbody tr th:only-of-type {\n",
       "        vertical-align: middle;\n",
       "    }\n",
       "\n",
       "    .dataframe tbody tr th {\n",
       "        vertical-align: top;\n",
       "    }\n",
       "\n",
       "    .dataframe thead th {\n",
       "        text-align: right;\n",
       "    }\n",
       "</style>\n",
       "<table border=\"1\" class=\"dataframe\">\n",
       "  <thead>\n",
       "    <tr style=\"text-align: right;\">\n",
       "      <th></th>\n",
       "      <th>Country_Region</th>\n",
       "      <th>Province_State</th>\n",
       "      <th>Lat</th>\n",
       "      <th>Long_</th>\n",
       "      <th>Confirmed</th>\n",
       "      <th>Deaths</th>\n",
       "      <th>Recovered</th>\n",
       "      <th>Last_Update</th>\n",
       "    </tr>\n",
       "  </thead>\n",
       "  <tbody>\n",
       "    <tr>\n",
       "      <th>0</th>\n",
       "      <td>Afghanistan</td>\n",
       "      <td></td>\n",
       "      <td>33.93911</td>\n",
       "      <td>67.709953</td>\n",
       "      <td>41425</td>\n",
       "      <td>1536</td>\n",
       "      <td>34321</td>\n",
       "      <td>2020-10-31 14:24:45</td>\n",
       "    </tr>\n",
       "    <tr>\n",
       "      <th>1</th>\n",
       "      <td>Albania</td>\n",
       "      <td></td>\n",
       "      <td>41.15330</td>\n",
       "      <td>20.168300</td>\n",
       "      <td>20634</td>\n",
       "      <td>502</td>\n",
       "      <td>11097</td>\n",
       "      <td>2020-10-31 14:24:45</td>\n",
       "    </tr>\n",
       "    <tr>\n",
       "      <th>2</th>\n",
       "      <td>Algeria</td>\n",
       "      <td></td>\n",
       "      <td>28.03390</td>\n",
       "      <td>1.659600</td>\n",
       "      <td>57651</td>\n",
       "      <td>1956</td>\n",
       "      <td>40014</td>\n",
       "      <td>2020-10-31 14:24:45</td>\n",
       "    </tr>\n",
       "    <tr>\n",
       "      <th>3</th>\n",
       "      <td>Andorra</td>\n",
       "      <td></td>\n",
       "      <td>42.50630</td>\n",
       "      <td>1.521800</td>\n",
       "      <td>4665</td>\n",
       "      <td>75</td>\n",
       "      <td>3377</td>\n",
       "      <td>2020-10-31 14:24:45</td>\n",
       "    </tr>\n",
       "    <tr>\n",
       "      <th>4</th>\n",
       "      <td>Angola</td>\n",
       "      <td></td>\n",
       "      <td>-11.20270</td>\n",
       "      <td>17.873900</td>\n",
       "      <td>10558</td>\n",
       "      <td>279</td>\n",
       "      <td>4107</td>\n",
       "      <td>2020-10-31 14:24:45</td>\n",
       "    </tr>\n",
       "  </tbody>\n",
       "</table>\n",
       "</div>"
      ],
      "text/plain": [
       "  Country_Region Province_State       Lat      Long_  Confirmed  Deaths  \\\n",
       "0    Afghanistan                 33.93911  67.709953      41425    1536   \n",
       "1        Albania                 41.15330  20.168300      20634     502   \n",
       "2        Algeria                 28.03390   1.659600      57651    1956   \n",
       "3        Andorra                 42.50630   1.521800       4665      75   \n",
       "4         Angola                -11.20270  17.873900      10558     279   \n",
       "\n",
       "   Recovered         Last_Update  \n",
       "0      34321 2020-10-31 14:24:45  \n",
       "1      11097 2020-10-31 14:24:45  \n",
       "2      40014 2020-10-31 14:24:45  \n",
       "3       3377 2020-10-31 14:24:45  \n",
       "4       4107 2020-10-31 14:24:45  "
      ]
     },
     "execution_count": 21,
     "metadata": {},
     "output_type": "execute_result"
    }
   ],
   "source": [
    "def convertTime(t):\n",
    "    t = int(t)\n",
    "    return datetime.fromtimestamp(t)\n",
    "\n",
    "df_final = df_final.dropna(subset=[\"Last_Update\"])\n",
    "df_final[\"Province_State\"].fillna(value=\"\", inplace=True)\n",
    "\n",
    "df_final[\"Last_Update\"]= df_final[\"Last_Update\"]/1000\n",
    "df_final[\"Last_Update\"] = df_final[\"Last_Update\"].apply(convertTime)\n",
    "\n",
    "df_final.head()"
   ]
  },
  {
   "cell_type": "code",
   "execution_count": 22,
   "metadata": {
    "ExecuteTime": {
     "end_time": "2020-10-31T12:04:20.204548Z",
     "start_time": "2020-10-31T12:04:20.173668Z"
    }
   },
   "outputs": [
    {
     "data": {
      "text/html": [
       "<div>\n",
       "<style scoped>\n",
       "    .dataframe tbody tr th:only-of-type {\n",
       "        vertical-align: middle;\n",
       "    }\n",
       "\n",
       "    .dataframe tbody tr th {\n",
       "        vertical-align: top;\n",
       "    }\n",
       "\n",
       "    .dataframe thead th {\n",
       "        text-align: right;\n",
       "    }\n",
       "</style>\n",
       "<table border=\"1\" class=\"dataframe\">\n",
       "  <thead>\n",
       "    <tr style=\"text-align: right;\">\n",
       "      <th></th>\n",
       "      <th>Country_Region</th>\n",
       "      <th>Confirmed</th>\n",
       "      <th>Deaths</th>\n",
       "      <th>Recovered</th>\n",
       "    </tr>\n",
       "  </thead>\n",
       "  <tbody>\n",
       "    <tr>\n",
       "      <th>0</th>\n",
       "      <td>Afghanistan</td>\n",
       "      <td>41425</td>\n",
       "      <td>1536</td>\n",
       "      <td>34321</td>\n",
       "    </tr>\n",
       "    <tr>\n",
       "      <th>1</th>\n",
       "      <td>Albania</td>\n",
       "      <td>20634</td>\n",
       "      <td>502</td>\n",
       "      <td>11097</td>\n",
       "    </tr>\n",
       "    <tr>\n",
       "      <th>2</th>\n",
       "      <td>Algeria</td>\n",
       "      <td>57651</td>\n",
       "      <td>1956</td>\n",
       "      <td>40014</td>\n",
       "    </tr>\n",
       "    <tr>\n",
       "      <th>3</th>\n",
       "      <td>Andorra</td>\n",
       "      <td>4665</td>\n",
       "      <td>75</td>\n",
       "      <td>3377</td>\n",
       "    </tr>\n",
       "    <tr>\n",
       "      <th>4</th>\n",
       "      <td>Angola</td>\n",
       "      <td>10558</td>\n",
       "      <td>279</td>\n",
       "      <td>4107</td>\n",
       "    </tr>\n",
       "  </tbody>\n",
       "</table>\n",
       "</div>"
      ],
      "text/plain": [
       "  Country_Region  Confirmed  Deaths  Recovered\n",
       "0    Afghanistan      41425    1536      34321\n",
       "1        Albania      20634     502      11097\n",
       "2        Algeria      57651    1956      40014\n",
       "3        Andorra       4665      75       3377\n",
       "4         Angola      10558     279       4107"
      ]
     },
     "execution_count": 22,
     "metadata": {},
     "output_type": "execute_result"
    }
   ],
   "source": [
    "df_total = df_final.groupby(\"Country_Region\", as_index=False).agg(\n",
    "    {\n",
    "        \"Confirmed\" : \"sum\",\n",
    "        \"Deaths\" : \"sum\",\n",
    "        \"Recovered\" : \"sum\"\n",
    "    }\n",
    ")\n",
    "\n",
    "df_total.head()"
   ]
  },
  {
   "cell_type": "code",
   "execution_count": 23,
   "metadata": {
    "ExecuteTime": {
     "end_time": "2020-10-31T12:05:19.770939Z",
     "start_time": "2020-10-31T12:05:19.754231Z"
    }
   },
   "outputs": [],
   "source": [
    "total_confirmed = df_final[\"Confirmed\"].sum()\n",
    "total_recovered = df_final[\"Recovered\"].sum()\n",
    "total_deaths = df_final[\"Deaths\"].sum()"
   ]
  },
  {
   "cell_type": "code",
   "execution_count": 24,
   "metadata": {
    "ExecuteTime": {
     "end_time": "2020-10-31T12:06:17.071199Z",
     "start_time": "2020-10-31T12:06:17.053810Z"
    }
   },
   "outputs": [],
   "source": [
    "df_top10 = df_total.nlargest(10, \"Confirmed\")\n",
    "top10_countries_1 = df_top10[\"Country_Region\"].tolist()\n",
    "top10_confirmed = df_top10[\"Confirmed\"].tolist()\n",
    "\n",
    "df_top10 = df_total.nlargest(10, \"Recovered\")\n",
    "top10_countries_2 = df_top10[\"Country_Region\"].tolist()\n",
    "top10_recovered = df_top10[\"Recovered\"].tolist()\n",
    "\n",
    "df_top10 = df_total.nlargest(10, \"Deaths\")\n",
    "top10_countries_3 = df_top10[\"Country_Region\"].tolist()\n",
    "top10_deaths = df_top10[\"Deaths\"].tolist()"
   ]
  },
  {
   "cell_type": "code",
   "execution_count": 34,
   "metadata": {
    "ExecuteTime": {
     "end_time": "2020-10-31T12:25:51.462548Z",
     "start_time": "2020-10-31T12:25:51.182713Z"
    }
   },
   "outputs": [],
   "source": [
    "fig = make_subplots(\n",
    "    rows = 4, cols = 6,\n",
    "\n",
    "    specs=[\n",
    "            [{\"type\": \"scattergeo\", \"rowspan\": 4, \"colspan\": 3}, None, None, {\"type\": \"indicator\"}, {\"type\": \"indicator\"}, {\"type\": \"indicator\"} ],\n",
    "            [    None, None, None,               {\"type\": \"bar\", \"colspan\":3}, None, None],\n",
    "            [    None, None, None,              {\"type\": \"bar\", \"colspan\":3}, None, None],\n",
    "            [    None, None, None,               {\"type\": \"bar\", \"colspan\":3}, None, None],\n",
    "          ]\n",
    ")\n",
    "\n",
    "message = df_final[\"Country_Region\"] + \" \" + df_final[\"Province_State\"] + \"<br>\"\n",
    "message += \"Confirmed: \" + df_final[\"Confirmed\"].astype(str) + \"<br>\"\n",
    "message += \"Deaths: \" + df_final[\"Deaths\"].astype(str) + \"<br>\"\n",
    "message += \"Recovered: \" + df_final[\"Recovered\"].astype(str) + \"<br>\"\n",
    "message += \"Last updated: \" + df_final[\"Last_Update\"].astype(str)\n",
    "df_final[\"text\"] = message\n",
    "\n",
    "fig.add_trace(\n",
    "    go.Scattergeo(\n",
    "        locationmode = \"country names\",\n",
    "        lon = df_final[\"Long_\"],\n",
    "        lat = df_final[\"Lat\"],\n",
    "        hovertext = df_final[\"text\"],\n",
    "        showlegend=False,\n",
    "        marker = dict(\n",
    "            size = 10,\n",
    "            opacity = 0.8,\n",
    "            reversescale = True,\n",
    "            autocolorscale = True,\n",
    "            symbol = 'circle',\n",
    "            line = dict(\n",
    "                width=1,\n",
    "                color='rgba(102, 102, 102)'\n",
    "            ),\n",
    "            cmin = 0,\n",
    "            color = df_final['Confirmed'],\n",
    "            cmax = df_final['Confirmed'].max(),\n",
    "            colorbar_title=\"Confirmed Cases<br>Latest Update\",  \n",
    "            colorbar_x = -0.05\n",
    "        )\n",
    "\n",
    "    ),\n",
    "    \n",
    "    row=1, col=1\n",
    ")\n",
    "\n",
    "fig.add_trace(\n",
    "    go.Indicator(\n",
    "        mode=\"number\",\n",
    "        value=total_confirmed,\n",
    "        title=\"Confirmed Cases\",\n",
    "    ),\n",
    "    row=1, col=4\n",
    ")\n",
    "\n",
    "fig.add_trace(\n",
    "    go.Indicator(\n",
    "        mode=\"number\",\n",
    "        value=total_recovered,\n",
    "        title=\"Recovered Cases\",\n",
    "    ),\n",
    "    row=1, col=5\n",
    ")\n",
    "\n",
    "fig.add_trace(\n",
    "    go.Indicator(\n",
    "        mode=\"number\",\n",
    "        value=total_deaths,\n",
    "        title=\"Deaths Cases\",\n",
    "    ),\n",
    "    row=1, col=6\n",
    ")\n",
    "\n",
    "fig.add_trace(\n",
    "    go.Bar(\n",
    "        x=top10_countries_1,\n",
    "        y=top10_confirmed, \n",
    "        name= \"Confirmed Cases\",\n",
    "        marker=dict(color=\"Yellow\"), \n",
    "        showlegend=True,\n",
    "    ),\n",
    "    row=2, col=4\n",
    ")\n",
    "\n",
    "fig.add_trace(\n",
    "    go.Bar(\n",
    "        x=top10_countries_2,\n",
    "        y=top10_recovered, \n",
    "        name= \"Recovered Cases\",\n",
    "        marker=dict(color=\"Green\"), \n",
    "        showlegend=True),\n",
    "    row=3, col=4\n",
    ")\n",
    "\n",
    "fig.add_trace(\n",
    "    go.Bar(\n",
    "        x=top10_countries_3,\n",
    "        y=top10_deaths, \n",
    "        name= \"Deaths Cases\",\n",
    "        marker=dict(color=\"crimson\"), \n",
    "        showlegend=True),\n",
    "    row=4, col=4\n",
    ")\n",
    "\n",
    "fig.update_layout(\n",
    "    template=\"plotly_dark\",\n",
    "    title = \"Global COVID-19 Cases (Last Updated: \" + str(df_final[\"Last_Update\"][0]) + \")\",\n",
    "    showlegend=True,\n",
    "    legend_orientation=\"h\",\n",
    "    legend=dict(x=0.65, y=0.8),\n",
    "    geo = dict(\n",
    "            projection_type=\"orthographic\",\n",
    "            showcoastlines=True,\n",
    "            landcolor=\"white\", \n",
    "            showland= True,\n",
    "            showocean = True,\n",
    "            lakecolor=\"LightBlue\"\n",
    "    ),\n",
    "\n",
    "    annotations=[\n",
    "        dict(\n",
    "            text=\"Source: https://bit.ly/3aEzxjK\",\n",
    "            showarrow=False,\n",
    "            xref=\"paper\",\n",
    "            yref=\"paper\",\n",
    "            x=0.35,\n",
    "            y=0)\n",
    "    ]\n",
    ")\n",
    "\n",
    "fig.write_html('first_figure.html', auto_open=True)"
   ]
  }
 ],
 "metadata": {
  "kernelspec": {
   "display_name": "Python 3",
   "language": "python",
   "name": "python3"
  },
  "language_info": {
   "codemirror_mode": {
    "name": "ipython",
    "version": 3
   },
   "file_extension": ".py",
   "mimetype": "text/x-python",
   "name": "python",
   "nbconvert_exporter": "python",
   "pygments_lexer": "ipython3",
   "version": "3.8.2"
  }
 },
 "nbformat": 4,
 "nbformat_minor": 4
}
