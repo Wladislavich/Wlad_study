{
 "cells": [
  {
   "cell_type": "code",
   "execution_count": 1,
   "metadata": {},
   "outputs": [],
   "source": [
    "import numpy as np\n",
    "import pandas as pd"
   ]
  },
  {
   "cell_type": "code",
   "execution_count": 2,
   "metadata": {},
   "outputs": [],
   "source": [
    "years=['2019A', '2020F', '2021F', '2022F', '2023F', '2024F']\n",
    "sales = pd.Series(index=years, dtype='float')\n",
    "sales['2019A'] = 15"
   ]
  },
  {
   "cell_type": "code",
   "execution_count": 3,
   "metadata": {},
   "outputs": [
    {
     "data": {
      "text/plain": [
       "2019A    15.00000\n",
       "2020F    16.50000\n",
       "2021F    18.15000\n",
       "2022F    19.96500\n",
       "2023F    21.96150\n",
       "2024F    24.15765\n",
       "dtype: float64"
      ]
     },
     "execution_count": 3,
     "metadata": {},
     "output_type": "execute_result"
    }
   ],
   "source": [
    "growth_rate = 0.1\n",
    "# Loop to populate the data series of sales\n",
    "for year in range(1,6):\n",
    "    sales[year] = sales[year-1] * (1+growth_rate)\n",
    "sales"
   ]
  },
  {
   "cell_type": "markdown",
   "metadata": {},
   "source": [
    "NOPAT calculations"
   ]
  },
  {
   "cell_type": "code",
   "execution_count": 4,
   "metadata": {},
   "outputs": [
    {
     "data": {
      "text/plain": [
       "2019A    1.785000\n",
       "2020F    1.963500\n",
       "2021F    2.159850\n",
       "2022F    2.375835\n",
       "2023F    2.613419\n",
       "2024F    2.874760\n",
       "dtype: float64"
      ]
     },
     "execution_count": 4,
     "metadata": {},
     "output_type": "execute_result"
    }
   ],
   "source": [
    "ebitda_margin = 0.20\n",
    "depr_percent = 0.03\n",
    "ebitda = sales * ebitda_margin\n",
    "depreciation = sales * depr_percent\n",
    "ebit = ebitda - depreciation\n",
    "tax_rate = 0.30\n",
    "tax_payment = -ebit * tax_rate\n",
    "tax_payment = tax_payment.apply(lambda x: min(x,0))\n",
    "nopat = ebit + tax_payment\n",
    "nopat"
   ]
  },
  {
   "cell_type": "markdown",
   "metadata": {
    "scrolled": true
   },
   "source": [
    "NWC calculations"
   ]
  },
  {
   "cell_type": "code",
   "execution_count": 5,
   "metadata": {},
   "outputs": [],
   "source": [
    "nwc_percent = 0.24\n",
    "nwc = sales * nwc_percent\n",
    "change_in_nwc = nwc.shift(1) - nwc\n",
    "capex_percent = depr_percent\n",
    "capex = -(sales * capex_percent)"
   ]
  },
  {
   "cell_type": "markdown",
   "metadata": {},
   "source": [
    "Free Cash Flow"
   ]
  },
  {
   "cell_type": "code",
   "execution_count": 6,
   "metadata": {},
   "outputs": [
    {
     "data": {
      "text/plain": [
       "2019A         NaN\n",
       "2020F    1.603500\n",
       "2021F    1.763850\n",
       "2022F    1.940235\n",
       "2023F    2.134259\n",
       "2024F    2.347684\n",
       "dtype: float64"
      ]
     },
     "execution_count": 6,
     "metadata": {},
     "output_type": "execute_result"
    }
   ],
   "source": [
    "free_cash_flow = nopat + depreciation + capex + change_in_nwc\n",
    "free_cash_flow"
   ]
  },
  {
   "cell_type": "markdown",
   "metadata": {},
   "source": [
    "terminal value"
   ]
  },
  {
   "cell_type": "code",
   "execution_count": 7,
   "metadata": {},
   "outputs": [
    {
     "data": {
      "text/plain": [
       "25.874659090909088"
      ]
     },
     "execution_count": 7,
     "metadata": {},
     "output_type": "execute_result"
    }
   ],
   "source": [
    "cost_of_capital = 0.10\n",
    "terminal_growth = 0.02\n",
    "terminal_value = ((free_cash_flow[-1] * (1 + terminal_growth))/\n",
    "                 (cost_of_capital - terminal_growth))\n",
    "discount_factors = [(1 / (1 + cost_of_capital)) ** i for i in range (1,6)]\n",
    "dcf_value = (sum(free_cash_flow[1:]*discount_factors) +\n",
    "            terminal_value * discount_factors[-1])\n",
    "dcf_value"
   ]
  },
  {
   "cell_type": "code",
   "execution_count": 9,
   "metadata": {},
   "outputs": [
    {
     "data": {
      "text/html": [
       "<div>\n",
       "<style scoped>\n",
       "    .dataframe tbody tr th:only-of-type {\n",
       "        vertical-align: middle;\n",
       "    }\n",
       "\n",
       "    .dataframe tbody tr th {\n",
       "        vertical-align: top;\n",
       "    }\n",
       "\n",
       "    .dataframe thead th {\n",
       "        text-align: right;\n",
       "    }\n",
       "</style>\n",
       "<table border=\"1\" class=\"dataframe\">\n",
       "  <thead>\n",
       "    <tr style=\"text-align: right;\">\n",
       "      <th></th>\n",
       "      <th>2019A</th>\n",
       "      <th>2020F</th>\n",
       "      <th>2021F</th>\n",
       "      <th>2022F</th>\n",
       "      <th>2023F</th>\n",
       "      <th>2024F</th>\n",
       "    </tr>\n",
       "  </thead>\n",
       "  <tbody>\n",
       "    <tr>\n",
       "      <th>Sales</th>\n",
       "      <td>15.00</td>\n",
       "      <td>16.50</td>\n",
       "      <td>18.15</td>\n",
       "      <td>19.97</td>\n",
       "      <td>21.96</td>\n",
       "      <td>24.16</td>\n",
       "    </tr>\n",
       "    <tr>\n",
       "      <th>EBIT</th>\n",
       "      <td>2.55</td>\n",
       "      <td>2.80</td>\n",
       "      <td>3.09</td>\n",
       "      <td>3.39</td>\n",
       "      <td>3.73</td>\n",
       "      <td>4.11</td>\n",
       "    </tr>\n",
       "    <tr>\n",
       "      <th>Tax Expense</th>\n",
       "      <td>-0.76</td>\n",
       "      <td>-0.84</td>\n",
       "      <td>-0.93</td>\n",
       "      <td>-1.02</td>\n",
       "      <td>-1.12</td>\n",
       "      <td>-1.23</td>\n",
       "    </tr>\n",
       "    <tr>\n",
       "      <th>NOPAT</th>\n",
       "      <td>1.78</td>\n",
       "      <td>1.96</td>\n",
       "      <td>2.16</td>\n",
       "      <td>2.38</td>\n",
       "      <td>2.61</td>\n",
       "      <td>2.87</td>\n",
       "    </tr>\n",
       "    <tr>\n",
       "      <th>D&amp;A Expense</th>\n",
       "      <td>0.45</td>\n",
       "      <td>0.50</td>\n",
       "      <td>0.54</td>\n",
       "      <td>0.60</td>\n",
       "      <td>0.66</td>\n",
       "      <td>0.72</td>\n",
       "    </tr>\n",
       "    <tr>\n",
       "      <th>Capital Expenditures</th>\n",
       "      <td>-0.45</td>\n",
       "      <td>-0.50</td>\n",
       "      <td>-0.54</td>\n",
       "      <td>-0.60</td>\n",
       "      <td>-0.66</td>\n",
       "      <td>-0.72</td>\n",
       "    </tr>\n",
       "    <tr>\n",
       "      <th>Increase in NWC</th>\n",
       "      <td>NaN</td>\n",
       "      <td>-0.36</td>\n",
       "      <td>-0.40</td>\n",
       "      <td>-0.44</td>\n",
       "      <td>-0.48</td>\n",
       "      <td>-0.53</td>\n",
       "    </tr>\n",
       "    <tr>\n",
       "      <th>Free Cash Flow</th>\n",
       "      <td>NaN</td>\n",
       "      <td>1.60</td>\n",
       "      <td>1.76</td>\n",
       "      <td>1.94</td>\n",
       "      <td>2.13</td>\n",
       "      <td>2.35</td>\n",
       "    </tr>\n",
       "  </tbody>\n",
       "</table>\n",
       "</div>"
      ],
      "text/plain": [
       "                      2019A  2020F  2021F  2022F  2023F  2024F\n",
       "Sales                 15.00  16.50  18.15  19.97  21.96  24.16\n",
       "EBIT                   2.55   2.80   3.09   3.39   3.73   4.11\n",
       "Tax Expense           -0.76  -0.84  -0.93  -1.02  -1.12  -1.23\n",
       "NOPAT                  1.78   1.96   2.16   2.38   2.61   2.87\n",
       "D&A Expense            0.45   0.50   0.54   0.60   0.66   0.72\n",
       "Capital Expenditures  -0.45  -0.50  -0.54  -0.60  -0.66  -0.72\n",
       "Increase in NWC         NaN  -0.36  -0.40  -0.44  -0.48  -0.53\n",
       "Free Cash Flow          NaN   1.60   1.76   1.94   2.13   2.35"
      ]
     },
     "execution_count": 9,
     "metadata": {},
     "output_type": "execute_result"
    }
   ],
   "source": [
    "# Exporting the Data to Excel\n",
    "output = pd.DataFrame([sales, ebit, tax_payment, nopat, \n",
    "                       depreciation, capex, change_in_nwc,\n",
    "                       free_cash_flow],\n",
    "                     index=[\"Sales\", \"EBIT\", \"Tax Expense\", \n",
    "                            \"NOPAT\", \"D&A Expense\",\n",
    "                            \"Capital Expenditures\",\n",
    "                            \"Increase in NWC\",\n",
    "                            \"Free Cash Flow\"]).round(2)\n",
    "output.to_excel('Python DCF Model.xlsx')\n",
    "output"
   ]
  },
  {
   "cell_type": "code",
   "execution_count": null,
   "metadata": {},
   "outputs": [],
   "source": []
  }
 ],
 "metadata": {
  "kernelspec": {
   "display_name": "Python 3",
   "language": "python",
   "name": "python3"
  },
  "language_info": {
   "codemirror_mode": {
    "name": "ipython",
    "version": 3
   },
   "file_extension": ".py",
   "mimetype": "text/x-python",
   "name": "python",
   "nbconvert_exporter": "python",
   "pygments_lexer": "ipython3",
   "version": "3.8.2"
  }
 },
 "nbformat": 4,
 "nbformat_minor": 4
}
