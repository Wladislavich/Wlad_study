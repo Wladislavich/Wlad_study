{
 "cells": [
  {
   "cell_type": "code",
   "execution_count": 12,
   "metadata": {},
   "outputs": [],
   "source": [
    "def whos_first(p1, p2):\n",
    "    p1_pos = None\n",
    "    p2_pos = None\n",
    "    for i, c in enumerate(p1):\n",
    "        if c == 'B':\n",
    "            p1_pos = i\n",
    "            break\n",
    "    for i,c in enumerate(p2):\n",
    "        if c == 'B':\n",
    "            p2_pos = i\n",
    "            break\n",
    "    if p1_pos < p2_pos or (p1_pos!= None and p2_pos==None):\n",
    "        over = 'p1'\n",
    "    elif p1_pos > p2_pos or (p1_pos== None and p2_pos!=None):\n",
    "        over = 'p2'\n",
    "    else:\n",
    "        over = 'tie'\n",
    "    return over"
   ]
  },
  {
   "cell_type": "code",
   "execution_count": 13,
   "metadata": {},
   "outputs": [],
   "source": [
    "def whos_first(p1, p2):\n",
    "    dist = p1.find('B') - p2.find('B')\n",
    "    if dist > 0:\n",
    "        return 'p2'\n",
    "    elif dist < 0:\n",
    "        return 'p1'\n",
    "    else:\n",
    "        'tie'"
   ]
  },
  {
   "cell_type": "code",
   "execution_count": 10,
   "metadata": {},
   "outputs": [],
   "source": [
    "def solve_hanoi_tower(discs):\n",
    "    return 2**discs-1"
   ]
  },
  {
   "cell_type": "code",
   "execution_count": 6,
   "metadata": {},
   "outputs": [],
   "source": [
    "def calc_dice_scores(lst):\n",
    "    score = 0\n",
    "    for (first, second) in lst:\n",
    "        if first != second:\n",
    "            score += first + second\n",
    "        else:\n",
    "            score = 0\n",
    "            break        \n",
    "    return score"
   ]
  },
  {
   "cell_type": "code",
   "execution_count": 14,
   "metadata": {},
   "outputs": [],
   "source": [
    "def calc_dice_scores(lst):\n",
    "    return sum(a+b for a,b in lst) if not any(a==b for a,b in lst) else 0"
   ]
  },
  {
   "cell_type": "code",
   "execution_count": 9,
   "metadata": {},
   "outputs": [],
   "source": [
    "def any_duplicates(square):\n",
    "    num_list = []\n",
    "    for lst in square:\n",
    "        for i in lst:\n",
    "            num_list.append(i)\n",
    "    return len(num_list) != len(set(num_list))"
   ]
  },
  {
   "cell_type": "code",
   "execution_count": 15,
   "metadata": {},
   "outputs": [],
   "source": [
    "def any_duplicates(square):\n",
    "    num_list = [i for x in square for i in x]\n",
    "    return len(num_list) != len(set(num_list))"
   ]
  },
  {
   "cell_type": "markdown",
   "metadata": {},
   "source": [
    "А теперь первое серьёзное домашнее задание. Вы попробуете разработать игру.\n",
    "\n",
    "Предлагаю древнюю китайскую игру в палочки.\n",
    "\n",
    "Играют два игрока.  Есть 10 палочек. Игроки по очереди берут от одной до трёх палочек. Играют до тех пор пока не закончатся палочки. Тот кто взял последним - тот проиграл.\n",
    "\n",
    "Реализуйте игру таким образом, чтобы могли играть два человека. Изначально есть 10 палочек. На каждом ходу выводите на консоль текущее количество оставшихся палочек и просите ввести количество палочек, которое хочет взять игрок (который делает ход). Не забывайте менять очерёдность игроков и сокращать кол-во палочек. В конце надо вывести кто победил - первый или второй игрок.\n",
    "\n",
    "Нюансы реализации могут отличаться. Кто-то может захотет запросить имена у игроков. Кто-то может захотеть реализовать не с 10-ю палочками, а с тем количеством, которое введёт пользователь (может он хочет играть с 20-ю палочками?)."
   ]
  },
  {
   "cell_type": "code",
   "execution_count": 11,
   "metadata": {},
   "outputs": [],
   "source": [
    "def sticks(num):\n",
    "    try:\n",
    "        pool = int(num)\n",
    "    except:\n",
    "        pool = 10\n",
    "    names = []\n",
    "    names.append(input('Игрок 1 - введите имя: '))\n",
    "    names.append(input('Игрок 2 - введите имя: '))\n",
    "    player = 0\n",
    "    while pool >= 1:\n",
    "        if pool == 1:\n",
    "            print(f'игрок {names[player]} проиграл.')\n",
    "            break\n",
    "        minus = input(f'Осталось {pool} палочек. Ходит игрок {names[player]}. Выберите количество палочек от 1 до 3, которое забираете: ')\n",
    "        try:\n",
    "            minus = int(minus)\n",
    "        except:\n",
    "            minus = 1\n",
    "            print(f'Предупреждение: игрок {names[player]} ввел некорректное значение. Считаю, что игрок забрал 1 палочку.')\n",
    "        if minus < 1:\n",
    "            print(f'Предупреждение: игрок {names[player]} ввел некорректное значение. Считаю, что игрок забрал 1 палочку.')\n",
    "            minus = 1\n",
    "        elif minus > 3:\n",
    "            print(f'Предупреждение: игрок {names[player]} ввел некорректное значение. Считаю, что игрок забрал 3 палочки.')\n",
    "            minus = 3\n",
    "        pool -= minus\n",
    "        if pool <=0:\n",
    "            print(f'игрок {names[player]} проиграл.')\n",
    "        player = 1 if player == 0 else 0"
   ]
  },
  {
   "cell_type": "code",
   "execution_count": 12,
   "metadata": {},
   "outputs": [
    {
     "name": "stdout",
     "output_type": "stream",
     "text": [
      "Игрок 1 - введите имя: 1\n",
      "Игрок 2 - введите имя: 2\n",
      "Осталось 10 палочек. Ходит игрок 1. Выберите количество палочек от 1 до 3, которое забираете: 3\n",
      "Осталось 7 палочек. Ходит игрок 2. Выберите количество палочек от 1 до 3, которое забираете: 3\n",
      "Осталось 4 палочек. Ходит игрок 1. Выберите количество палочек от 1 до 3, которое забираете: 3\n",
      "игрок 2 проиграл.\n"
     ]
    }
   ],
   "source": [
    "sticks(10)"
   ]
  },
  {
   "cell_type": "markdown",
   "metadata": {},
   "source": []
  }
 ],
 "metadata": {
  "kernelspec": {
   "display_name": "Python 3",
   "language": "python",
   "name": "python3"
  },
  "language_info": {
   "codemirror_mode": {
    "name": "ipython",
    "version": 3
   },
   "file_extension": ".py",
   "mimetype": "text/x-python",
   "name": "python",
   "nbconvert_exporter": "python",
   "pygments_lexer": "ipython3",
   "version": "3.8.2"
  }
 },
 "nbformat": 4,
 "nbformat_minor": 4
}
