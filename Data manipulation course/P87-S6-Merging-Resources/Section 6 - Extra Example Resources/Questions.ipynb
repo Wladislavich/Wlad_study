{
 "cells": [
  {
   "cell_type": "markdown",
   "metadata": {},
   "source": [
    "# Extra Examples - Merging\n",
    "\n",
    "Heres a dataset dumped directly from a database, so we need to stitch it together ourselves.\n",
    "https://www.kaggle.com/uciml/restaurant-data-with-consumer-ratings\n",
    "\n",
    "The dataset comes with a README file that outlines where everything comes from which might help.\n",
    "\n",
    "Lets try to:\n",
    "\n",
    "1. Merge all restaurant data\n",
    "2. Merge all user data\n",
    "3. Merge restaurant data and user data together using user ratings\n",
    "4. Realise that we've merged too much, and merge user ratings + user profile + geoplaces\n",
    "5. Use some groupby power and determine the top five restaurants in the dataset"
   ]
  },
  {
   "cell_type": "code",
   "execution_count": 1,
   "metadata": {
    "ExecuteTime": {
     "end_time": "2020-10-25T13:32:29.444929Z",
     "start_time": "2020-10-25T13:32:29.210307Z"
    }
   },
   "outputs": [
    {
     "name": "stdout",
     "output_type": "stream",
     "text": [
      "['chefmozaccepts.csv', 'chefmozcuisine.csv', 'chefmozhours4.csv', 'chefmozparking.csv', 'geoplaces2.csv', 'rating_final.csv', 'usercuisine.csv', 'userpayment.csv', 'userprofile.csv']\n"
     ]
    }
   ],
   "source": [
    "import pandas as pd\n",
    "import os\n",
    "\n",
    "files = [f for f in os.listdir() if f.endswith(\".csv\")]\n",
    "print(files)"
   ]
  },
  {
   "cell_type": "markdown",
   "metadata": {},
   "source": [
    "## Merging restaurant data"
   ]
  },
  {
   "cell_type": "code",
   "execution_count": 9,
   "metadata": {
    "ExecuteTime": {
     "end_time": "2020-10-25T14:10:31.709374Z",
     "start_time": "2020-10-25T14:10:31.677949Z"
    }
   },
   "outputs": [],
   "source": [
    "for f in files:\n",
    "    name = f.split('.')[0]\n",
    "    exec(f'{name} = pd.read_csv(\"{f}\")')\n",
    "    #print(name)\n",
    "    #print(f'{name} = pd.read_csv(\"{f}\")')"
   ]
  },
  {
   "cell_type": "code",
   "execution_count": 11,
   "metadata": {
    "ExecuteTime": {
     "end_time": "2020-10-25T14:13:54.824044Z",
     "start_time": "2020-10-25T14:13:54.776280Z"
    }
   },
   "outputs": [
    {
     "name": "stdout",
     "output_type": "stream",
     "text": [
      "Variable         Type         Data/Info\n",
      "---------------------------------------\n",
      "chefmozaccepts   DataFrame          placeID            <...>\\n[1314 rows x 2 columns]\n",
      "chefmozcuisine   DataFrame         placeID        Rcuis<...>n\\n[916 rows x 2 columns]\n",
      "chefmozhours4    DataFrame          placeID         hou<...>\\n[2339 rows x 3 columns]\n",
      "chefmozparking   DataFrame         placeID parking_lot\\<...>n\\n[702 rows x 2 columns]\n",
      "f                str          userprofile.csv\n",
      "files            list         n=9\n",
      "geoplaces2       DataFrame         placeID   latitude  <...>\\n[130 rows x 21 columns]\n",
      "name             str          userprofile\n",
      "os               module       <module 'os' from 'c:\\\\us<...>n\\\\python38\\\\lib\\\\os.py'>\n",
      "pd               module       <module 'pandas' from 'c:<...>es\\\\pandas\\\\__init__.py'>\n",
      "rating_final     DataFrame         userID  placeID  rat<...>\\n[1161 rows x 5 columns]\n",
      "usercuisine      DataFrame        userID           Rcui<...>n\\n[330 rows x 2 columns]\n",
      "userpayment      DataFrame        userID          Upaym<...>n\\n[177 rows x 2 columns]\n",
      "userprofile      DataFrame        userID   latitude   l<...>\\n[138 rows x 19 columns]\n"
     ]
    }
   ],
   "source": [
    "%whos"
   ]
  },
  {
   "cell_type": "markdown",
   "metadata": {},
   "source": [
    "## Merging User data"
   ]
  },
  {
   "cell_type": "code",
   "execution_count": 2,
   "metadata": {
    "ExecuteTime": {
     "end_time": "2020-02-03T05:53:39.411690Z",
     "start_time": "2020-02-03T05:53:39.409690Z"
    }
   },
   "outputs": [],
   "source": [
    "# your code here"
   ]
  },
  {
   "cell_type": "markdown",
   "metadata": {},
   "source": [
    "## Merging User ratings as well"
   ]
  },
  {
   "cell_type": "code",
   "execution_count": 3,
   "metadata": {
    "ExecuteTime": {
     "end_time": "2020-02-03T05:53:44.245951Z",
     "start_time": "2020-02-03T05:53:44.241962Z"
    }
   },
   "outputs": [],
   "source": [
    "# your code here"
   ]
  },
  {
   "cell_type": "markdown",
   "metadata": {},
   "source": [
    "## Merge Subsets"
   ]
  },
  {
   "cell_type": "code",
   "execution_count": 4,
   "metadata": {
    "ExecuteTime": {
     "end_time": "2020-02-03T05:53:52.675647Z",
     "start_time": "2020-02-03T05:53:52.672677Z"
    }
   },
   "outputs": [],
   "source": [
    "# your code here"
   ]
  },
  {
   "cell_type": "markdown",
   "metadata": {},
   "source": [
    "## Top 5 restaurants based off rating\n",
    "\n",
    "Note to answer this we didn't actually need the user profile data. But we might use it to remove votes from users that don't satisfy criteria (for example, we might want to make sure the user has been to multiple restaurants, or is a certain age, or doesnt have suspicious voting trends - aka giving everyone a one)."
   ]
  },
  {
   "cell_type": "code",
   "execution_count": 5,
   "metadata": {
    "ExecuteTime": {
     "end_time": "2020-02-03T05:53:57.171285Z",
     "start_time": "2020-02-03T05:53:57.168286Z"
    }
   },
   "outputs": [],
   "source": [
    "# your code here"
   ]
  }
 ],
 "metadata": {
  "kernelspec": {
   "display_name": "Python 3",
   "language": "python",
   "name": "python3"
  },
  "language_info": {
   "codemirror_mode": {
    "name": "ipython",
    "version": 3
   },
   "file_extension": ".py",
   "mimetype": "text/x-python",
   "name": "python",
   "nbconvert_exporter": "python",
   "pygments_lexer": "ipython3",
   "version": "3.8.2"
  }
 },
 "nbformat": 4,
 "nbformat_minor": 2
}
