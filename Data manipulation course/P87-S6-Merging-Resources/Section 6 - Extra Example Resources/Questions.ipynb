{
 "cells": [
  {
   "cell_type": "markdown",
   "metadata": {},
   "source": [
    "# Extra Examples - Merging\n",
    "\n",
    "Heres a dataset dumped directly from a database, so we need to stitch it together ourselves.\n",
    "https://www.kaggle.com/uciml/restaurant-data-with-consumer-ratings\n",
    "\n",
    "The dataset comes with a README file that outlines where everything comes from which might help.\n",
    "\n",
    "Lets try to:\n",
    "\n",
    "1. Merge all restaurant data\n",
    "2. Merge all user data\n",
    "3. Merge restaurant data and user data together using user ratings\n",
    "4. Realise that we've merged too much, and merge user ratings + user profile + geoplaces\n",
    "5. Use some groupby power and determine the top five restaurants in the dataset"
   ]
  },
  {
   "cell_type": "code",
   "execution_count": 1,
   "metadata": {
    "ExecuteTime": {
     "end_time": "2020-11-04T16:30:52.107246Z",
     "start_time": "2020-11-04T16:30:50.996693Z"
    }
   },
   "outputs": [
    {
     "name": "stdout",
     "output_type": "stream",
     "text": [
      "['chefmozaccepts.csv', 'chefmozcuisine.csv', 'chefmozhours4.csv', 'chefmozparking.csv', 'geoplaces2.csv', 'rating_final.csv', 'usercuisine.csv', 'userpayment.csv', 'userprofile.csv']\n"
     ]
    }
   ],
   "source": [
    "import pandas as pd\n",
    "import os\n",
    "\n",
    "files = [f for f in os.listdir() if f.endswith(\".csv\")]\n",
    "print(files)"
   ]
  },
  {
   "cell_type": "markdown",
   "metadata": {},
   "source": [
    "## Merging restaurant data"
   ]
  },
  {
   "cell_type": "code",
   "execution_count": 2,
   "metadata": {
    "ExecuteTime": {
     "end_time": "2020-11-04T16:30:53.888646Z",
     "start_time": "2020-11-04T16:30:53.845881Z"
    }
   },
   "outputs": [],
   "source": [
    "for f in files:\n",
    "    name = f.split('.')[0]\n",
    "    exec(f'{name} = pd.read_csv(\"{f}\")')"
   ]
  },
  {
   "cell_type": "code",
   "execution_count": 3,
   "metadata": {
    "ExecuteTime": {
     "end_time": "2020-11-04T16:31:07.791957Z",
     "start_time": "2020-11-04T16:31:07.731818Z"
    }
   },
   "outputs": [],
   "source": [
    "df_restaurant1 = pd.merge(chefmozaccepts, chefmozcuisine, on='placeID', how='left')\n",
    "df_restaurant2 = df_restaurant1.merge(chefmozhours4, on='placeID', how='left')\n",
    "df_restaurant3 = df_restaurant2.merge(chefmozparking, on='placeID', how='left')\n",
    "df_restaurant4 = df_restaurant3.merge(geoplaces2, on='placeID', how='left')"
   ]
  },
  {
   "cell_type": "code",
   "execution_count": 4,
   "metadata": {
    "ExecuteTime": {
     "end_time": "2020-11-04T16:31:09.195182Z",
     "start_time": "2020-11-04T16:31:09.181924Z"
    }
   },
   "outputs": [
    {
     "name": "stdout",
     "output_type": "stream",
     "text": [
      "chefmozaccepts: (1314, 2)\n",
      "chefmozcuisine: (1314, 2)\n",
      "df_restaurant1: (1631, 3)\n",
      "chefmozhours4: (2339, 3)\n",
      "df_restaurant2: (5165, 5)\n",
      "chefmozparking: (702, 2)\n",
      "df_restaurant3: (5715, 6)\n",
      "geoplaces2: (130, 21)\n",
      "df_restaurant4: (5715, 26)\n"
     ]
    }
   ],
   "source": [
    "print(f'chefmozaccepts: {chefmozaccepts.shape}')\n",
    "print(f'chefmozcuisine: {chefmozaccepts.shape}')\n",
    "print(f'df_restaurant1: {df_restaurant1.shape}')\n",
    "print(f'chefmozhours4: {chefmozhours4.shape}')\n",
    "print(f'df_restaurant2: {df_restaurant2.shape}')\n",
    "print(f'chefmozparking: {chefmozparking.shape}')\n",
    "print(f'df_restaurant3: {df_restaurant3.shape}')\n",
    "print(f'geoplaces2: {geoplaces2.shape}')\n",
    "print(f'df_restaurant4: {df_restaurant4.shape}')"
   ]
  },
  {
   "cell_type": "markdown",
   "metadata": {},
   "source": [
    "## Merging User data"
   ]
  },
  {
   "cell_type": "code",
   "execution_count": 5,
   "metadata": {
    "ExecuteTime": {
     "end_time": "2020-11-04T16:31:11.858992Z",
     "start_time": "2020-11-04T16:31:11.810896Z"
    }
   },
   "outputs": [],
   "source": [
    "df_user = None\n",
    "for f in files:\n",
    "    if f.startswith('user'):\n",
    "        df = pd.read_csv(f)\n",
    "        if df_user is None:\n",
    "            df_user = df\n",
    "        else:\n",
    "            df_user = df_user.merge(df, on='userID')"
   ]
  },
  {
   "cell_type": "markdown",
   "metadata": {},
   "source": [
    "## Merging User ratings as well"
   ]
  },
  {
   "cell_type": "code",
   "execution_count": 11,
   "metadata": {
    "ExecuteTime": {
     "end_time": "2020-11-04T16:34:00.114590Z",
     "start_time": "2020-11-04T16:34:00.050424Z"
    }
   },
   "outputs": [],
   "source": [
    "all_data = pd.merge(df_restaurant4, rating_final, on='placeID')\n",
    "all_data = pd.merge(all_data, df_user, on='userID')"
   ]
  },
  {
   "cell_type": "markdown",
   "metadata": {},
   "source": [
    "## Merge Subsets"
   ]
  },
  {
   "cell_type": "code",
   "execution_count": 17,
   "metadata": {
    "ExecuteTime": {
     "end_time": "2020-11-04T16:41:41.275499Z",
     "start_time": "2020-11-04T16:41:41.242162Z"
    }
   },
   "outputs": [],
   "source": [
    "smart_data = pd.merge(userprofile, rating_final, on='userID')\n",
    "smart_data = pd.merge(smart_data, geoplaces2, on='placeID')"
   ]
  },
  {
   "cell_type": "markdown",
   "metadata": {},
   "source": [
    "## Top 5 restaurants based off rating\n",
    "\n",
    "Note to answer this we didn't actually need the user profile data. But we might use it to remove votes from users that don't satisfy criteria (for example, we might want to make sure the user has been to multiple restaurants, or is a certain age, or doesnt have suspicious voting trends - aka giving everyone a one)."
   ]
  },
  {
   "cell_type": "code",
   "execution_count": 20,
   "metadata": {
    "ExecuteTime": {
     "end_time": "2020-11-04T16:42:54.246508Z",
     "start_time": "2020-11-04T16:42:54.226923Z"
    }
   },
   "outputs": [
    {
     "data": {
      "text/plain": [
       "Index(['userID', 'latitude_x', 'longitude_x', 'smoker', 'drink_level',\n",
       "       'dress_preference', 'ambience', 'transport', 'marital_status', 'hijos',\n",
       "       'birth_year', 'interest', 'personality', 'religion', 'activity',\n",
       "       'color', 'weight', 'budget', 'height', 'placeID', 'rating',\n",
       "       'food_rating', 'service_rating', 'latitude_y', 'longitude_y',\n",
       "       'the_geom_meter', 'name', 'address', 'city', 'state', 'country', 'fax',\n",
       "       'zip', 'alcohol', 'smoking_area', 'dress_code', 'accessibility',\n",
       "       'price', 'url', 'Rambience', 'franchise', 'area', 'other_services'],\n",
       "      dtype='object')"
      ]
     },
     "execution_count": 20,
     "metadata": {},
     "output_type": "execute_result"
    }
   ],
   "source": [
    "smart_data.columns"
   ]
  },
  {
   "cell_type": "code",
   "execution_count": 33,
   "metadata": {
    "ExecuteTime": {
     "end_time": "2020-11-04T16:50:15.309130Z",
     "start_time": "2020-11-04T16:50:15.283386Z"
    }
   },
   "outputs": [
    {
     "data": {
      "text/html": [
       "<div>\n",
       "<style scoped>\n",
       "    .dataframe tbody tr th:only-of-type {\n",
       "        vertical-align: middle;\n",
       "    }\n",
       "\n",
       "    .dataframe tbody tr th {\n",
       "        vertical-align: top;\n",
       "    }\n",
       "\n",
       "    .dataframe thead th {\n",
       "        text-align: right;\n",
       "    }\n",
       "</style>\n",
       "<table border=\"1\" class=\"dataframe\">\n",
       "  <thead>\n",
       "    <tr style=\"text-align: right;\">\n",
       "      <th></th>\n",
       "      <th>placeID</th>\n",
       "      <th>name</th>\n",
       "      <th>address</th>\n",
       "      <th>city</th>\n",
       "      <th>rating</th>\n",
       "    </tr>\n",
       "  </thead>\n",
       "  <tbody>\n",
       "    <tr>\n",
       "      <th>57</th>\n",
       "      <td>132955</td>\n",
       "      <td>emilianos</td>\n",
       "      <td>venustiano carranza</td>\n",
       "      <td>san luis potos</td>\n",
       "      <td>2.000000</td>\n",
       "    </tr>\n",
       "    <tr>\n",
       "      <th>82</th>\n",
       "      <td>135034</td>\n",
       "      <td>Michiko Restaurant Japones</td>\n",
       "      <td>Cordillera de Los Alpes 160 Lomas 2 Seccion</td>\n",
       "      <td>San Luis Potosi</td>\n",
       "      <td>2.000000</td>\n",
       "    </tr>\n",
       "    <tr>\n",
       "      <th>62</th>\n",
       "      <td>134986</td>\n",
       "      <td>Restaurant Las Mananitas</td>\n",
       "      <td>Ricardo Linares 107</td>\n",
       "      <td>Cuernavaca</td>\n",
       "      <td>2.000000</td>\n",
       "    </tr>\n",
       "    <tr>\n",
       "      <th>52</th>\n",
       "      <td>132922</td>\n",
       "      <td>cafe punta del cielo</td>\n",
       "      <td>?</td>\n",
       "      <td>?</td>\n",
       "      <td>1.833333</td>\n",
       "    </tr>\n",
       "    <tr>\n",
       "      <th>26</th>\n",
       "      <td>132755</td>\n",
       "      <td>La Estrella de Dimas</td>\n",
       "      <td>Av. de los Pintores</td>\n",
       "      <td>San Luis Potosi</td>\n",
       "      <td>1.800000</td>\n",
       "    </tr>\n",
       "  </tbody>\n",
       "</table>\n",
       "</div>"
      ],
      "text/plain": [
       "    placeID                        name  \\\n",
       "57   132955                   emilianos   \n",
       "82   135034  Michiko Restaurant Japones   \n",
       "62   134986    Restaurant Las Mananitas   \n",
       "52   132922        cafe punta del cielo   \n",
       "26   132755        La Estrella de Dimas   \n",
       "\n",
       "                                        address             city    rating  \n",
       "57                          venustiano carranza   san luis potos  2.000000  \n",
       "82  Cordillera de Los Alpes 160 Lomas 2 Seccion  San Luis Potosi  2.000000  \n",
       "62                          Ricardo Linares 107       Cuernavaca  2.000000  \n",
       "52                                            ?                ?  1.833333  \n",
       "26                          Av. de los Pintores  San Luis Potosi  1.800000  "
      ]
     },
     "execution_count": 33,
     "metadata": {},
     "output_type": "execute_result"
    }
   ],
   "source": [
    "smart_data.groupby(['placeID', 'name','address', 'city']).rating.mean().reset_index().sort_values('rating', ascending=False).head()"
   ]
  }
 ],
 "metadata": {
  "kernelspec": {
   "display_name": "Python 3",
   "language": "python",
   "name": "python3"
  },
  "language_info": {
   "codemirror_mode": {
    "name": "ipython",
    "version": 3
   },
   "file_extension": ".py",
   "mimetype": "text/x-python",
   "name": "python",
   "nbconvert_exporter": "python",
   "pygments_lexer": "ipython3",
   "version": "3.8.2"
  }
 },
 "nbformat": 4,
 "nbformat_minor": 2
}
